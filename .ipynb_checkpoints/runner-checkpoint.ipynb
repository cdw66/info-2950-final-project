{
 "cells": [
  {
   "cell_type": "code",
   "execution_count": 22,
   "metadata": {},
   "outputs": [],
   "source": [
    "import pandas as pd\n",
    "import numpy as np\n",
    "from bs4 import BeautifulSoup\n",
    "from sklearn.linear_model import LinearRegression\n",
    "from matplotlib import pyplot\n"
   ]
  },
  {
   "cell_type": "code",
   "execution_count": 23,
   "metadata": {},
   "outputs": [
    {
     "data": {
      "text/html": [
       "<div>\n",
       "<style scoped>\n",
       "    .dataframe tbody tr th:only-of-type {\n",
       "        vertical-align: middle;\n",
       "    }\n",
       "\n",
       "    .dataframe tbody tr th {\n",
       "        vertical-align: top;\n",
       "    }\n",
       "\n",
       "    .dataframe thead th {\n",
       "        text-align: right;\n",
       "    }\n",
       "</style>\n",
       "<table border=\"1\" class=\"dataframe\">\n",
       "  <thead>\n",
       "    <tr style=\"text-align: right;\">\n",
       "      <th></th>\n",
       "      <th>gun</th>\n",
       "      <th>skin</th>\n",
       "      <th>rarity</th>\n",
       "      <th>stattrak</th>\n",
       "      <th>quality</th>\n",
       "      <th>price</th>\n",
       "      <th>quantity</th>\n",
       "    </tr>\n",
       "  </thead>\n",
       "  <tbody>\n",
       "    <tr>\n",
       "      <th>0</th>\n",
       "      <td>AK-47</td>\n",
       "      <td>Point Disarray</td>\n",
       "      <td>Classified</td>\n",
       "      <td>0</td>\n",
       "      <td>Factory New</td>\n",
       "      <td>45.05</td>\n",
       "      <td>44.0</td>\n",
       "    </tr>\n",
       "    <tr>\n",
       "      <th>1</th>\n",
       "      <td>AK-47</td>\n",
       "      <td>Point Disarray</td>\n",
       "      <td>Classified</td>\n",
       "      <td>0</td>\n",
       "      <td>Minimal Wear</td>\n",
       "      <td>31.35</td>\n",
       "      <td>81.0</td>\n",
       "    </tr>\n",
       "    <tr>\n",
       "      <th>2</th>\n",
       "      <td>AK-47</td>\n",
       "      <td>Point Disarray</td>\n",
       "      <td>Classified</td>\n",
       "      <td>0</td>\n",
       "      <td>Field-Tested</td>\n",
       "      <td>19.59</td>\n",
       "      <td>122.0</td>\n",
       "    </tr>\n",
       "    <tr>\n",
       "      <th>3</th>\n",
       "      <td>AK-47</td>\n",
       "      <td>Point Disarray</td>\n",
       "      <td>Classified</td>\n",
       "      <td>0</td>\n",
       "      <td>Well-Worn</td>\n",
       "      <td>22.82</td>\n",
       "      <td>17.0</td>\n",
       "    </tr>\n",
       "    <tr>\n",
       "      <th>4</th>\n",
       "      <td>AK-47</td>\n",
       "      <td>Point Disarray</td>\n",
       "      <td>Classified</td>\n",
       "      <td>0</td>\n",
       "      <td>Battle-Scarred</td>\n",
       "      <td>16.42</td>\n",
       "      <td>40.0</td>\n",
       "    </tr>\n",
       "  </tbody>\n",
       "</table>\n",
       "</div>"
      ],
      "text/plain": [
       "      gun             skin      rarity  stattrak         quality   price  \\\n",
       "0  AK-47    Point Disarray  Classified         0     Factory New   45.05   \n",
       "1  AK-47    Point Disarray  Classified         0    Minimal Wear   31.35   \n",
       "2  AK-47    Point Disarray  Classified         0    Field-Tested   19.59   \n",
       "3  AK-47    Point Disarray  Classified         0       Well-Worn   22.82   \n",
       "4  AK-47    Point Disarray  Classified         0  Battle-Scarred   16.42   \n",
       "\n",
       "   quantity  \n",
       "0      44.0  \n",
       "1      81.0  \n",
       "2     122.0  \n",
       "3      17.0  \n",
       "4      40.0  "
      ]
     },
     "execution_count": 23,
     "metadata": {},
     "output_type": "execute_result"
    }
   ],
   "source": [
    "data = pd.read_csv(\"dataset.csv\")\n",
    "del (data[\"Unnamed: 0\"]) # Deleting unwanted column\n",
    "data.head()"
   ]
  },
  {
   "cell_type": "code",
   "execution_count": 24,
   "metadata": {},
   "outputs": [
    {
     "data": {
      "text/plain": [
       "array(['Classified', 'Restricted', 'Covert', 'Mil-Spec', 'Industrial',\n",
       "       'Consumer', 'Contraband'], dtype=object)"
      ]
     },
     "execution_count": 24,
     "metadata": {},
     "output_type": "execute_result"
    }
   ],
   "source": [
    "data[\"rarity\"].unique() ## Finding which strings we need to map to touch up the dataset"
   ]
  },
  {
   "cell_type": "code",
   "execution_count": 25,
   "metadata": {},
   "outputs": [
    {
     "data": {
      "text/html": [
       "<div>\n",
       "<style scoped>\n",
       "    .dataframe tbody tr th:only-of-type {\n",
       "        vertical-align: middle;\n",
       "    }\n",
       "\n",
       "    .dataframe tbody tr th {\n",
       "        vertical-align: top;\n",
       "    }\n",
       "\n",
       "    .dataframe thead th {\n",
       "        text-align: right;\n",
       "    }\n",
       "</style>\n",
       "<table border=\"1\" class=\"dataframe\">\n",
       "  <thead>\n",
       "    <tr style=\"text-align: right;\">\n",
       "      <th></th>\n",
       "      <th>gun</th>\n",
       "      <th>skin</th>\n",
       "      <th>rarity</th>\n",
       "      <th>stattrak</th>\n",
       "      <th>quality</th>\n",
       "      <th>price</th>\n",
       "      <th>quantity</th>\n",
       "    </tr>\n",
       "  </thead>\n",
       "  <tbody>\n",
       "    <tr>\n",
       "      <th>0</th>\n",
       "      <td>AK-47</td>\n",
       "      <td>Point Disarray</td>\n",
       "      <td>5</td>\n",
       "      <td>0</td>\n",
       "      <td>Factory New</td>\n",
       "      <td>45.05</td>\n",
       "      <td>44.0</td>\n",
       "    </tr>\n",
       "    <tr>\n",
       "      <th>1</th>\n",
       "      <td>AK-47</td>\n",
       "      <td>Point Disarray</td>\n",
       "      <td>5</td>\n",
       "      <td>0</td>\n",
       "      <td>Minimal Wear</td>\n",
       "      <td>31.35</td>\n",
       "      <td>81.0</td>\n",
       "    </tr>\n",
       "    <tr>\n",
       "      <th>2</th>\n",
       "      <td>AK-47</td>\n",
       "      <td>Point Disarray</td>\n",
       "      <td>5</td>\n",
       "      <td>0</td>\n",
       "      <td>Field-Tested</td>\n",
       "      <td>19.59</td>\n",
       "      <td>122.0</td>\n",
       "    </tr>\n",
       "    <tr>\n",
       "      <th>3</th>\n",
       "      <td>AK-47</td>\n",
       "      <td>Point Disarray</td>\n",
       "      <td>5</td>\n",
       "      <td>0</td>\n",
       "      <td>Well-Worn</td>\n",
       "      <td>22.82</td>\n",
       "      <td>17.0</td>\n",
       "    </tr>\n",
       "    <tr>\n",
       "      <th>4</th>\n",
       "      <td>AK-47</td>\n",
       "      <td>Point Disarray</td>\n",
       "      <td>5</td>\n",
       "      <td>0</td>\n",
       "      <td>Battle-Scarred</td>\n",
       "      <td>16.42</td>\n",
       "      <td>40.0</td>\n",
       "    </tr>\n",
       "  </tbody>\n",
       "</table>\n",
       "</div>"
      ],
      "text/plain": [
       "      gun             skin  rarity  stattrak         quality   price  quantity\n",
       "0  AK-47    Point Disarray       5         0     Factory New   45.05      44.0\n",
       "1  AK-47    Point Disarray       5         0    Minimal Wear   31.35      81.0\n",
       "2  AK-47    Point Disarray       5         0    Field-Tested   19.59     122.0\n",
       "3  AK-47    Point Disarray       5         0       Well-Worn   22.82      17.0\n",
       "4  AK-47    Point Disarray       5         0  Battle-Scarred   16.42      40.0"
      ]
     },
     "execution_count": 25,
     "metadata": {},
     "output_type": "execute_result"
    }
   ],
   "source": [
    "rarity_map = {\"Consumer\": 1, \"Industrial\": 2, \"Mil-Spec\": 3, \"Restricted\": 4,\n",
    "              \"Classified\": 5, \"Covert\": 6, \"Contraband\": 7}\n",
    "\n",
    "data[\"rarity\"] = data[\"rarity\"].map(rarity_map) ## Mapping numeric values to rarity\n",
    "data.head()\n"
   ]
  },
  {
   "cell_type": "code",
   "execution_count": 26,
   "metadata": {},
   "outputs": [
    {
     "name": "stdout",
     "output_type": "stream",
     "text": [
      "342 NaN items dropped.\n"
     ]
    }
   ],
   "source": [
    "original_length = len(data)\n",
    "data = data.dropna() ##Dropping NaN values from the dataset\n",
    "print(original_length - len(data), \"NaN items dropped.\")"
   ]
  },
  {
   "cell_type": "code",
   "execution_count": 27,
   "metadata": {},
   "outputs": [],
   "source": [
    "data[\"price\"] = pd.to_numeric(data[\"price\"], downcast=\"float\")"
   ]
  },
  {
   "cell_type": "code",
   "execution_count": 59,
   "metadata": {},
   "outputs": [],
   "source": [
    "model = LinearRegression().fit(data[[\"rarity\", \"stattrak\"]], data[\"price\"])\n"
   ]
  },
  {
   "cell_type": "code",
   "execution_count": 60,
   "metadata": {},
   "outputs": [
    {
     "data": {
      "text/plain": [
       "array([59.26954448, 17.82184401])"
      ]
     },
     "execution_count": 60,
     "metadata": {},
     "output_type": "execute_result"
    }
   ],
   "source": [
    "model.coef_\n"
   ]
  },
  {
   "cell_type": "code",
   "execution_count": 56,
   "metadata": {},
   "outputs": [
    {
     "data": {
      "image/png": "[encoded data removed]",
      "text/plain": [
       "<Figure size 432x288 with 1 Axes>"
      ]
     },
     "metadata": {},
     "output_type": "display_data"
    }
   ],
   "source": [
    "pyplot.scatter(data[[\"quantity\"]], data['price'],color='g')\n",
    "\n",
    "pyplot.show()"
   ]
  },
  {
   "cell_type": "code",
   "execution_count": null,
   "metadata": {},
   "outputs": [],
   "source": []
  }
 ],
 "metadata": {
  "kernelspec": {
   "display_name": "Python 3",
   "language": "python",
   "name": "python3"
  },
  "language_info": {
   "codemirror_mode": {
    "name": "ipython",
    "version": 3
   },
   "file_extension": ".py",
   "mimetype": "text/x-python",
   "name": "python",
   "nbconvert_exporter": "python",
   "pygments_lexer": "ipython3",
   "version": "3.6.5"
  }
 },
 "nbformat": 4,
 "nbformat_minor": 2
}
