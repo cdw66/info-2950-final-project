{
 "cells": [
  {
   "cell_type": "code",
   "execution_count": 7,
   "metadata": {},
   "outputs": [],
   "source": [
    "import pandas as pd\n",
    "import numpy as np\n",
    "from sklearn.linear_model import LinearRegression\n",
    "\n",
    "# Importing dataset\n",
    "weapons = pd.read_csv('cleaned dataset with categories.csv')\n",
    "\n",
    "#weapons.loc[weapons['category'] == 'none']"
   ]
  },
  {
   "cell_type": "markdown",
   "metadata": {},
   "source": [
    "## Weapon category indicator inputs"
   ]
  },
  {
   "cell_type": "markdown",
   "metadata": {},
   "source": [
    "In this cell, we show the number of induvidual weapons that belong to each weapon category."
   ]
  },
  {
   "cell_type": "code",
   "execution_count": 8,
   "metadata": {},
   "outputs": [
    {
     "data": {
      "text/plain": [
       "category\n",
       "heavy     1089\n",
       "knife     2513\n",
       "pistol    2123\n",
       "rifle     2348\n",
       "smg       1457\n",
       "Name: category, dtype: int64"
      ]
     },
     "execution_count": 8,
     "metadata": {},
     "output_type": "execute_result"
    }
   ],
   "source": [
    "# Calculating the number of weapons in each category\n",
    "weapons.groupby(\"category\")[\"category\"].count()"
   ]
  },
  {
   "cell_type": "markdown",
   "metadata": {},
   "source": [
    "Next, we create indicator (dummy) variables for each weapon based on that weapon's membership in a specific category. We will use these dummy variables to create linear regressions later on. "
   ]
  },
  {
   "cell_type": "code",
   "execution_count": 9,
   "metadata": {},
   "outputs": [
    {
     "data": {
      "text/html": [
       "<div>\n",
       "<style scoped>\n",
       "    .dataframe tbody tr th:only-of-type {\n",
       "        vertical-align: middle;\n",
       "    }\n",
       "\n",
       "    .dataframe tbody tr th {\n",
       "        vertical-align: top;\n",
       "    }\n",
       "\n",
       "    .dataframe thead th {\n",
       "        text-align: right;\n",
       "    }\n",
       "</style>\n",
       "<table border=\"1\" class=\"dataframe\">\n",
       "  <thead>\n",
       "    <tr style=\"text-align: right;\">\n",
       "      <th></th>\n",
       "      <th>heavy</th>\n",
       "      <th>knife</th>\n",
       "      <th>pistol</th>\n",
       "      <th>rifle</th>\n",
       "      <th>smg</th>\n",
       "    </tr>\n",
       "  </thead>\n",
       "  <tbody>\n",
       "    <tr>\n",
       "      <th>0</th>\n",
       "      <td>0</td>\n",
       "      <td>0</td>\n",
       "      <td>0</td>\n",
       "      <td>1</td>\n",
       "      <td>0</td>\n",
       "    </tr>\n",
       "    <tr>\n",
       "      <th>1</th>\n",
       "      <td>0</td>\n",
       "      <td>0</td>\n",
       "      <td>0</td>\n",
       "      <td>1</td>\n",
       "      <td>0</td>\n",
       "    </tr>\n",
       "    <tr>\n",
       "      <th>2</th>\n",
       "      <td>0</td>\n",
       "      <td>0</td>\n",
       "      <td>0</td>\n",
       "      <td>1</td>\n",
       "      <td>0</td>\n",
       "    </tr>\n",
       "    <tr>\n",
       "      <th>3</th>\n",
       "      <td>0</td>\n",
       "      <td>0</td>\n",
       "      <td>0</td>\n",
       "      <td>1</td>\n",
       "      <td>0</td>\n",
       "    </tr>\n",
       "    <tr>\n",
       "      <th>4</th>\n",
       "      <td>0</td>\n",
       "      <td>0</td>\n",
       "      <td>0</td>\n",
       "      <td>1</td>\n",
       "      <td>0</td>\n",
       "    </tr>\n",
       "  </tbody>\n",
       "</table>\n",
       "</div>"
      ],
      "text/plain": [
       "   heavy  knife  pistol  rifle  smg\n",
       "0      0      0       0      1    0\n",
       "1      0      0       0      1    0\n",
       "2      0      0       0      1    0\n",
       "3      0      0       0      1    0\n",
       "4      0      0       0      1    0"
      ]
     },
     "execution_count": 9,
     "metadata": {},
     "output_type": "execute_result"
    }
   ],
   "source": [
    "# Creating dummy variables for weapon category\n",
    "category_dummies = pd.get_dummies(weapons[\"category\"])\n",
    "category_dummies.head()\n"
   ]
  },
  {
   "cell_type": "markdown",
   "metadata": {},
   "source": [
    "In the cell below, we create a linear regression for each category of weapon and display its slope to see the relationship between a weapon's category and its price. "
   ]
  },
  {
   "cell_type": "code",
   "execution_count": 27,
   "metadata": {},
   "outputs": [
    {
     "name": "stdout",
     "output_type": "stream",
     "text": [
      "Heavies: -96.90968171227775\n",
      "Knives: 274.90222174491913\n",
      "Pistols: -101.10398529264816\n",
      "Rifles: -68.49790460914652\n",
      "SMGs: -103.02027279472205\n"
     ]
    }
   ],
   "source": [
    "# Calculating linear regression for each column in category_dummies\n",
    "heavies = category_dummies['heavy']\n",
    "knives = category_dummies['knife']\n",
    "pistols = category_dummies['pistol']\n",
    "rifles = category_dummies['rifle']\n",
    "smgs = category_dummies['smg']\n",
    "\n",
    "# Creating linear regression models\n",
    "heavy_model = LinearRegression().fit(np.array(heavies).reshape(-1,1), weapons['price'])\n",
    "knife_model = LinearRegression().fit(np.array(knives).reshape(-1,1), weapons['price'])\n",
    "pistol_model = LinearRegression().fit(np.array(pistols).reshape(-1,1), weapons['price'])\n",
    "rifle_model = LinearRegression().fit(np.array(rifles).reshape(-1,1), weapons['price'])\n",
    "smg_model = LinearRegression().fit(np.array(smgs).reshape(-1,1), weapons['price'])\n",
    "\n",
    "# Displaying slopes of each regression\n",
    "print(\"Heavies:\", heavy_model.coef_[0])\n",
    "print(\"Knives:\", knife_model.coef_[0])\n",
    "print(\"Pistols:\", pistol_model.coef_[0])\n",
    "print(\"Rifles:\", rifle_model.coef_[0])\n",
    "print(\"SMGs:\", smg_model.coef_[0])"
   ]
  },
  {
   "cell_type": "markdown",
   "metadata": {},
   "source": [
    "## Interpretation\n",
    "\n",
    "Based on the slopes displayed above, we can see how the category that a weapon falls into correlates with its price. The slope of `knife_model` is approximately $275$, which is the highest of any category by far and means that there is a very strong correlation between knives and price. On average, knives are much more expensive than any other weapon type. Given this very high correlation, we can infer that knives are among the most desirable weapons on the marketplace, since they fetch the highest price. \n",
    "\n",
    "Based on this interpretation, we can determine that rifles are the second most desirable category of weapon on the market, given that the slope of `rifle_model` is the second highest, at around $-68$. On average, they are less expensive than knives, but more expensive than SMGs, pistols, and heavies.\n",
    "\n",
    "The models of all of the other weapon categories have very similar slopes that center around $-100$. These weapons are among the least desireable on the market and are the cheapest type of weapon on average."
   ]
  },
  {
   "cell_type": "code",
   "execution_count": null,
   "metadata": {},
   "outputs": [],
   "source": []
  }
 ],
 "metadata": {
  "kernelspec": {
   "display_name": "Python 3",
   "language": "python",
   "name": "python3"
  },
  "language_info": {
   "codemirror_mode": {
    "name": "ipython",
    "version": 3
   },
   "file_extension": ".py",
   "mimetype": "text/x-python",
   "name": "python",
   "nbconvert_exporter": "python",
   "pygments_lexer": "ipython3",
   "version": "3.8.1"
  }
 },
 "nbformat": 4,
 "nbformat_minor": 4
}
