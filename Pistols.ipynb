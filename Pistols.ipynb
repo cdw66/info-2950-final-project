{
 "cells": [
  {
   "cell_type": "code",
   "execution_count": 55,
   "metadata": {},
   "outputs": [],
   "source": [
    "from bs4 import BeautifulSoup\n",
    "import pandas as pd"
   ]
  },
  {
   "cell_type": "code",
   "execution_count": 56,
   "metadata": {},
   "outputs": [],
   "source": [
    "with open(\"CZ75 Auto.htm\") as file_reader:\n",
    "    soup = BeautifulSoup(file_reader, \"lxml\")"
   ]
  },
  {
   "cell_type": "code",
   "execution_count": 57,
   "metadata": {},
   "outputs": [
    {
     "name": "stdout",
     "output_type": "stream",
     "text": [
      "CZ75-Auto | Distressed\n"
     ]
    }
   ],
   "source": [
    "print(soup.find(\"h3\").get_text())\n",
    "names = soup.find_all(\"h3\", \"name\")\n",
    "classification = soup.find_all(\"div\", \"center item-rare\")\n",
    "tb = soup.find_all(\"table\", \"table table-hover table-condensed mb-none\")"
   ]
  },
  {
   "cell_type": "code",
   "execution_count": 58,
   "metadata": {},
   "outputs": [],
   "source": [
    "#print(names)"
   ]
  },
  {
   "cell_type": "code",
   "execution_count": 59,
   "metadata": {},
   "outputs": [
    {
     "name": "stdout",
     "output_type": "stream",
     "text": [
      "CZ75-Auto | Distressed\n",
      "CZ75-Auto | Emerald Quartz\n",
      "CZ75-Auto | Poison Dart\n",
      "CZ75-Auto | Crimson Web\n",
      "CZ75-Auto | Hexane\n",
      "CZ75-Auto | Indigo\n",
      "CZ75-Auto | Tigris\n",
      "CZ75-Auto | Polymer\n",
      "CZ75-Auto | Victoria\n",
      "CZ75-Auto | Eco\n",
      "CZ75-Auto | Tacticat\n",
      "CZ75-Auto | Yellow Jacket\n",
      "CZ75-Auto | Red Astor\n",
      "CZ75-Auto | Xiangliu\n",
      "CZ75-Auto | The Fuschia Is Now\n",
      "CZ75-Auto | Pole Position\n",
      "CZ75-Auto | Tread Plate\n",
      "CZ75-Auto | Nitro\n",
      "CZ75-Auto | Imprint\n",
      "CZ75-Auto | Chalice\n",
      "CZ75-Auto | Green Plaid\n",
      "CZ75-Auto | Twist\n",
      "CZ75-Auto | Army Sheen\n",
      "CZ75-Auto | Emerald\n",
      "CZ75-Auto | Tuxedo\n",
      "\n",
      "Mil-Spec\n",
      "\n",
      "\n",
      "Mil-Spec\n",
      "\n",
      "\n",
      "Mil-Spec\n",
      "\n",
      "\n",
      "Mil-Spec\n",
      "\n",
      "\n",
      "Mil-Spec\n",
      "\n",
      "\n",
      "Consumer Grade\n",
      "\n",
      "\n",
      "Restricted\n",
      "\n",
      "\n",
      "Mil-Spec\n",
      "\n",
      "\n",
      "Covert\n",
      "\n",
      "\n",
      "Restricted\n",
      "\n",
      "\n",
      "Restricted\n",
      "\n",
      "\n",
      "Classified\n",
      "\n",
      "\n",
      "Restricted\n",
      "\n",
      "\n",
      "Classified\n",
      "\n",
      "\n",
      "Classified\n",
      "\n",
      "\n",
      "Restricted\n",
      "\n",
      "\n",
      "Restricted\n",
      "\n",
      "\n",
      "Mil-Spec\n",
      "\n",
      "\n",
      "Mil-Spec\n",
      "\n",
      "\n",
      "Restricted\n",
      "\n",
      "\n",
      "Consumer Grade\n",
      "\n",
      "\n",
      "Mil-Spec\n",
      "\n",
      "\n",
      "Consumer Grade\n",
      "\n",
      "\n",
      "Mil-Spec\n",
      "\n",
      "\n",
      "Mil-Spec\n",
      "\n"
     ]
    }
   ],
   "source": [
    "for b in names:\n",
    "    print(b.get_text())\n",
    "for b in classification:\n",
    "    print(b.get_text())"
   ]
  },
  {
   "cell_type": "code",
   "execution_count": 64,
   "metadata": {
    "scrolled": true
   },
   "outputs": [
    {
     "name": "stdout",
     "output_type": "stream",
     "text": [
      "<tbody><tr><td>Factory New</td><td class=\"text-right\"><i aria-hidden=\"true\" class=\"fa fa-angle-up green\"></i> $ <span>0.58</span></td><td class=\"text-right items-on-market\"><i aria-hidden=\"true\" class=\"fa fa-steam\"></i> 100</td></tr><tr><td>Minimal Wear</td><td class=\"text-right\"><i aria-hidden=\"true\" class=\"fa fa-angle-down red\"></i> $ <span>0.27</span></td><td class=\"text-right items-on-market\"><i aria-hidden=\"true\" class=\"fa fa-steam\"></i> 515</td></tr><tr><td>Field-Tested</td><td class=\"text-right\"><i aria-hidden=\"true\" class=\"fa fa-angle-up green\"></i> $ <span>0.15</span></td><td class=\"text-right items-on-market\"><i aria-hidden=\"true\" class=\"fa fa-steam\"></i> 1120</td></tr><tr><td>Well-Worn</td><td class=\"text-right\"><i aria-hidden=\"true\" class=\"fa fa-angle-down red\"></i> $ <span>0.14</span></td><td class=\"text-right items-on-market\"><i aria-hidden=\"true\" class=\"fa fa-steam\"></i> 1027</td></tr><tr><td>Battle-Scarred</td><td class=\"text-right\"><i aria-hidden=\"true\" class=\"fa fa-angle-down red\"></i> $ <span>0.13</span></td><td class=\"text-right items-on-market\"><i aria-hidden=\"true\" class=\"fa fa-steam\"></i> 656</td></tr></tbody>\n"
     ]
    }
   ],
   "source": [
    "print(tb[0].find(\"tbody\"))\n",
    "table = tb[0].find(\"tbody\")"
   ]
  },
  {
   "cell_type": "code",
   "execution_count": 69,
   "metadata": {},
   "outputs": [],
   "source": [
    "data = []\n",
    "rows = table.find_all('tr')\n",
    "for row in rows:\n",
    "    cols = row.find_all('td')\n",
    "    cols = [ele.text.strip() for ele in cols]\n",
    "    data.append([ele for ele in cols if ele])"
   ]
  },
  {
   "cell_type": "code",
   "execution_count": 70,
   "metadata": {},
   "outputs": [
    {
     "data": {
      "text/plain": [
       "[['Factory New', '$ 0.58', '100'],\n",
       " ['Minimal Wear', '$ 0.27', '515'],\n",
       " ['Field-Tested', '$ 0.15', '1120'],\n",
       " ['Well-Worn', '$ 0.14', '1027'],\n",
       " ['Battle-Scarred', '$ 0.13', '656']]"
      ]
     },
     "execution_count": 70,
     "metadata": {},
     "output_type": "execute_result"
    }
   ],
   "source": [
    "data"
   ]
  },
  {
   "cell_type": "code",
   "execution_count": 92,
   "metadata": {},
   "outputs": [],
   "source": [
    "#This will change each time\n",
    "\n",
    "bonus = len(names) + 19"
   ]
  },
  {
   "cell_type": "code",
   "execution_count": 93,
   "metadata": {},
   "outputs": [],
   "source": [
    "data = []\n",
    "for x in range(0, bonus):\n",
    "    table = tb[x].find(\"tbody\")\n",
    "    rows = table.find_all('tr')\n",
    "    for row in rows:\n",
    "        cols = row.find_all('td')\n",
    "        cols = [ele.text.strip() for ele in cols]\n",
    "        data.append([ele for ele in cols if ele])"
   ]
  },
  {
   "cell_type": "code",
   "execution_count": 94,
   "metadata": {},
   "outputs": [
    {
     "data": {
      "text/plain": [
       "[['Factory New', '$ 0.58', '100'],\n",
       " ['Minimal Wear', '$ 0.27', '515'],\n",
       " ['Field-Tested', '$ 0.15', '1120'],\n",
       " ['Well-Worn', '$ 0.14', '1027'],\n",
       " ['Battle-Scarred', '$ 0.13', '656'],\n",
       " ['Factory New', '$ 2.04', '37'],\n",
       " ['Minimal Wear', '$ 0.95', '64'],\n",
       " ['Field-Tested', '$ 0.4', '81'],\n",
       " ['Well-Worn', '$ 0.27', '165'],\n",
       " ['Battle-Scarred', '$ 0.27', '107'],\n",
       " ['Factory New', '$ 11.24', '58'],\n",
       " ['Minimal Wear', '$ 10.6', '31'],\n",
       " ['Field-Tested', '$ 10.28', '61'],\n",
       " ['Well-Worn', '$ 10.41', '7'],\n",
       " ['Battle-Scarred', '$ 9.83', '20'],\n",
       " ['Factory New', '$ 3.48', '31'],\n",
       " ['Minimal Wear', '$ 1.39', '106'],\n",
       " ['Field-Tested', '$ 0.65', '110'],\n",
       " ['Well-Worn', '$ 1.98', '19'],\n",
       " ['Battle-Scarred', '$ 3.14', '49'],\n",
       " ['Factory New', '$ 10.86', '37'],\n",
       " ['Minimal Wear', '$ 3.29', '33'],\n",
       " ['Field-Tested', '$ 1.21', '166'],\n",
       " ['Well-Worn', '$ 6', '19'],\n",
       " ['Battle-Scarred', '$ 1.12', '109'],\n",
       " ['Factory New', '$ 15.98', '15'],\n",
       " ['Minimal Wear', '$ 1.15', '228'],\n",
       " ['Field-Tested', '$ 0.29', '334'],\n",
       " ['Well-Worn', '$ 0.36', '174'],\n",
       " ['Battle-Scarred', '$ 0.25', '164'],\n",
       " ['Factory New', '$ 122.09', '4'],\n",
       " ['Minimal Wear', '$ 5.65', '48'],\n",
       " ['Field-Tested', '$ 1.01', '200'],\n",
       " ['Well-Worn', '$ 1.54', '48'],\n",
       " ['Battle-Scarred', '$ 0.88', '79'],\n",
       " ['Factory New', '$ 1.91', '102'],\n",
       " ['Minimal Wear', '$ 0.83', '110'],\n",
       " ['Field-Tested', '$ 0.48', '71'],\n",
       " ['Well-Worn', '$ 0.63', '27'],\n",
       " ['Factory New', '$ 8', '50'],\n",
       " ['Minimal Wear', '$ 2.14', '59'],\n",
       " ['Field-Tested', '$ 0.86', '148'],\n",
       " ['Well-Worn', '$ 1.3', '15'],\n",
       " ['Factory New', '$ 0.78', '139'],\n",
       " ['Minimal Wear', '$ 0.18', '887'],\n",
       " ['Field-Tested', '$ 0.1', '2621'],\n",
       " ['Well-Worn', '$ 0.1', '916'],\n",
       " ['Battle-Scarred', '$ 0.09', '1593'],\n",
       " ['Factory New', '$ 1.51', '200'],\n",
       " ['Minimal Wear', '$ 0.59', '274'],\n",
       " ['Field-Tested', '$ 0.41', '667'],\n",
       " ['Well-Worn', '$ 0.4', '285'],\n",
       " ['Battle-Scarred', '$ 0.39', '216'],\n",
       " ['Factory New', '$ 5.72', '91'],\n",
       " ['Minimal Wear', '$ 2.25', '114'],\n",
       " ['Field-Tested', '$ 1.43', '174'],\n",
       " ['Well-Worn', '$ 1.24', '88'],\n",
       " ['Battle-Scarred', '$ 1.15', '63'],\n",
       " ['Factory New', '$ 0.27', '495'],\n",
       " ['Minimal Wear', '$ 0.17', '931'],\n",
       " ['Field-Tested', '$ 0.11', '2864'],\n",
       " ['Well-Worn', '$ 0.13', '476'],\n",
       " ['Battle-Scarred', '$ 0.12', '323'],\n",
       " ['Factory New', '$ 0.83', '151'],\n",
       " ['Minimal Wear', '$ 0.52', '177'],\n",
       " ['Field-Tested', '$ 0.29', '620'],\n",
       " ['Well-Worn', '$ 0.3', '153'],\n",
       " ['Battle-Scarred', '$ 0.37', '115'],\n",
       " ['Factory New', '$ 12.8', '30'],\n",
       " ['Minimal Wear', '$ 7.6', '60'],\n",
       " ['Field-Tested', '$ 5.69', '77'],\n",
       " ['Well-Worn', '$ 6.5', '13'],\n",
       " ['Battle-Scarred', '$ 5.42', '34'],\n",
       " ['Factory New', '$ 149.92', '6'],\n",
       " ['Minimal Wear', '$ 43.41', '5'],\n",
       " ['Field-Tested', '$ 25.79', '21'],\n",
       " ['Well-Worn', '$ 40.09', '4'],\n",
       " ['Battle-Scarred', '$ 19.95', '18'],\n",
       " ['Factory New', '$ 2.77', '89'],\n",
       " ['Minimal Wear', '$ 0.92', '169'],\n",
       " ['Field-Tested', '$ 0.46', '330'],\n",
       " ['Well-Worn', '$ 0.37', '346'],\n",
       " ['Battle-Scarred', '$ 0.37', '307'],\n",
       " ['Factory New', '$ 11.7', '35'],\n",
       " ['Minimal Wear', '$ 4.26', '43'],\n",
       " ['Field-Tested', '$ 1.52', '102'],\n",
       " ['Well-Worn', '$ 1.04', '131'],\n",
       " ['Battle-Scarred', '$ 0.95', '59'],\n",
       " ['Factory New', '$ 1.19', '407'],\n",
       " ['Minimal Wear', '$ 0.55', '574'],\n",
       " ['Field-Tested', '$ 0.36', '2421'],\n",
       " ['Well-Worn', '$ 0.42', '310'],\n",
       " ['Battle-Scarred', '$ 0.38', '295'],\n",
       " ['Factory New', '$ 4.64', '120'],\n",
       " ['Minimal Wear', '$ 2.01', '175'],\n",
       " ['Field-Tested', '$ 0.88', '200'],\n",
       " ['Well-Worn', '$ 1.42', '71'],\n",
       " ['Battle-Scarred', '$ 0.86', '106'],\n",
       " ['Factory New', '$ 8.69', '28'],\n",
       " ['Minimal Wear', '$ 4.66', '36'],\n",
       " ['Field-Tested', '$ 3.61', '73'],\n",
       " ['Well-Worn', '$ 3.26', '15'],\n",
       " ['Battle-Scarred', '$ 3.1', '27'],\n",
       " ['Factory New', '$ 28.26', '9'],\n",
       " ['Minimal Wear', '$ 13.35', '9'],\n",
       " ['Field-Tested', '$ 8.19', '19'],\n",
       " ['Well-Worn', '$ 7.48', '19'],\n",
       " ['Battle-Scarred', '$ 6.7', '10'],\n",
       " ['Factory New', '$ 2.13', '106'],\n",
       " ['Minimal Wear', '$ 0.8', '258'],\n",
       " ['Field-Tested', '$ 0.37', '561'],\n",
       " ['Well-Worn', '$ 0.38', '457'],\n",
       " ['Battle-Scarred', '$ 0.37', '235'],\n",
       " ['Factory New', '$ 9.77', '30'],\n",
       " ['Minimal Wear', '$ 3.04', '88'],\n",
       " ['Field-Tested', '$ 1.49', '189'],\n",
       " ['Well-Worn', '$ 1.23', '132'],\n",
       " ['Battle-Scarred', '$ 1.15', '117'],\n",
       " ['Factory New', '$ 7.18', '189'],\n",
       " ['Minimal Wear', '$ 5.75', '103'],\n",
       " ['Field-Tested', '$ 4.85', '28'],\n",
       " ['Well-Worn', '$ 5.33', '15'],\n",
       " ['Battle-Scarred', '$ 5.37', '9'],\n",
       " ['Factory New', '$ 22.01', '29'],\n",
       " ['Minimal Wear', '$ 14.6', '28'],\n",
       " ['Field-Tested', '$ 9.96', '39'],\n",
       " ['Well-Worn', '$ 9.32', '15'],\n",
       " ['Battle-Scarred', '$ 9.74', '8'],\n",
       " ['Factory New', '$ 18.9', '44'],\n",
       " ['Minimal Wear', '$ 10.31', '34'],\n",
       " ['Field-Tested', '$ 9.01', '24'],\n",
       " ['Well-Worn', '$ 50', '2'],\n",
       " ['Factory New', '$ 28.89', '7'],\n",
       " ['Minimal Wear', '$ 13', '14'],\n",
       " ['Field-Tested', '$ 8.4', '16'],\n",
       " ['Well-Worn', '$ 31.13', '4'],\n",
       " ['Factory New', '$ 1.21', '106'],\n",
       " ['Minimal Wear', '$ 0.65', '208'],\n",
       " ['Field-Tested', '$ 0.37', '946'],\n",
       " ['Well-Worn', '$ 0.41', '317'],\n",
       " ['Battle-Scarred', '$ 0.37', '245'],\n",
       " ['Factory New', '$ 3.81', '78'],\n",
       " ['Minimal Wear', '$ 1.93', '102'],\n",
       " ['Field-Tested', '$ 0.83', '200'],\n",
       " ['Well-Worn', '$ 1.52', '34'],\n",
       " ['Battle-Scarred', '$ 0.83', '102'],\n",
       " ['Factory New', '$ 3.12', '87'],\n",
       " ['Minimal Wear', '$ 2.26', '65'],\n",
       " ['Field-Tested', '$ 2.07', '12'],\n",
       " ['Factory New', '$ 7.04', '20'],\n",
       " ['Minimal Wear', '$ 4.61', '22'],\n",
       " ['Field-Tested', '$ 6.62', '8'],\n",
       " ['Factory New', '$ 25.58', '11'],\n",
       " ['Minimal Wear', '$ 3.76', '20'],\n",
       " ['Field-Tested', '$ 2.6', '28'],\n",
       " ['Well-Worn', '$ 2.83', '16'],\n",
       " ['Battle-Scarred', '$ 2.59', '19'],\n",
       " ['Factory New', '$ 41.43', '6'],\n",
       " ['Minimal Wear', '$ 4', '39'],\n",
       " ['Field-Tested', '$ 1.56', '173'],\n",
       " ['Well-Worn', '$ 1.54', '27'],\n",
       " ['Battle-Scarred', '$ 1.41', '47'],\n",
       " ['Factory New', '$ 0.34', '316'],\n",
       " ['Minimal Wear', '$ 0.13', '1335'],\n",
       " ['Field-Tested', '$ 0.09', '2414'],\n",
       " ['Well-Worn', '$ 0.1', '1882'],\n",
       " ['Battle-Scarred', '$ 0.09', '1838'],\n",
       " ['Factory New', '$ 1.73', '100'],\n",
       " ['Minimal Wear', '$ 0.41', '377'],\n",
       " ['Field-Tested', '$ 0.25', '946'],\n",
       " ['Well-Worn', '$ 0.25', '1118'],\n",
       " ['Battle-Scarred', '$ 0.24', '518'],\n",
       " ['Factory New', '$ 125.51', '17'],\n",
       " ['Minimal Wear', '$ 89.79', 'N/A'],\n",
       " ['Factory New', '$ 87.54', '18'],\n",
       " ['Minimal Wear', '$ 69.63', '8'],\n",
       " ['Factory New', '$ 0.94', '90'],\n",
       " ['Minimal Wear', '$ 0.61', '104'],\n",
       " ['Field-Tested', '$ 0.47', '56'],\n",
       " ['Well-Worn', '$ 0.87', '84'],\n",
       " ['Battle-Scarred', '$ 0.54', '98'],\n",
       " ['Factory New', '$ 0.99', '87'],\n",
       " ['Minimal Wear', '$ 0.28', '149'],\n",
       " ['Field-Tested', '$ 0.19', '285'],\n",
       " ['Well-Worn', '$ 0.18', '194'],\n",
       " ['Battle-Scarred', '$ 0.18', '192'],\n",
       " ['Factory New', '$ 2.6', '55'],\n",
       " ['Minimal Wear', '$ 0.76', '186'],\n",
       " ['Field-Tested', '$ 0.4', '188'],\n",
       " ['Well-Worn', '$ 0.34', '260'],\n",
       " ['Battle-Scarred', '$ 0.36', '170'],\n",
       " ['Factory New', '$ 0.87', '156'],\n",
       " ['Minimal Wear', '$ 0.36', '110'],\n",
       " ['Field-Tested', '$ 0.26', '98'],\n",
       " ['Factory New', '$ 6.64', '157'],\n",
       " ['Minimal Wear', '$ 7.05', '25'],\n",
       " ['Factory New', '$ 0.95', '374'],\n",
       " ['Minimal Wear', '$ 0.71', '709'],\n",
       " ['Field-Tested', '$ 0.32', '652'],\n",
       " ['Well-Worn', '$ 0.31', '199'],\n",
       " ['Battle-Scarred', '$ 0.26', '351']]"
      ]
     },
     "execution_count": 94,
     "metadata": {},
     "output_type": "execute_result"
    }
   ],
   "source": [
    "data"
   ]
  },
  {
   "cell_type": "code",
   "execution_count": null,
   "metadata": {},
   "outputs": [],
   "source": []
  },
  {
   "cell_type": "code",
   "execution_count": null,
   "metadata": {},
   "outputs": [],
   "source": []
  },
  {
   "cell_type": "code",
   "execution_count": null,
   "metadata": {},
   "outputs": [],
   "source": []
  },
  {
   "cell_type": "code",
   "execution_count": null,
   "metadata": {},
   "outputs": [],
   "source": []
  },
  {
   "cell_type": "code",
   "execution_count": 65,
   "metadata": {},
   "outputs": [
    {
     "name": "stdout",
     "output_type": "stream",
     "text": [
      "['Factory New', ' $ 0.58', ' 100']\n",
      "['Minimal Wear', ' $ 0.27', ' 515']\n",
      "['Field-Tested', ' $ 0.15', ' 1120']\n",
      "['Well-Worn', ' $ 0.14', ' 1027']\n",
      "['Battle-Scarred', ' $ 0.13', ' 656']\n"
     ]
    }
   ],
   "source": [
    "#for tr in table_rows:\n",
    "    #td = tr.find_all('td')\n",
    "    #row = [i.text for i in td]\n",
    "    #print(row)"
   ]
  }
 ],
 "metadata": {
  "kernelspec": {
   "display_name": "Python 3",
   "language": "python",
   "name": "python3"
  },
  "language_info": {
   "codemirror_mode": {
    "name": "ipython",
    "version": 3
   },
   "file_extension": ".py",
   "mimetype": "text/x-python",
   "name": "python",
   "nbconvert_exporter": "python",
   "pygments_lexer": "ipython3",
   "version": "3.7.3"
  }
 },
 "nbformat": 4,
 "nbformat_minor": 2
}
