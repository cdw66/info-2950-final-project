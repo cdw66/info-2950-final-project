{
 "cells": [
  {
   "cell_type": "code",
   "execution_count": 2,
   "metadata": {},
   "outputs": [],
   "source": [
    "from bs4 import BeautifulSoup\n",
    "import numpy as np\n",
    "import pandas as pd"
   ]
  },
  {
   "cell_type": "code",
   "execution_count": 4,
   "metadata": {},
   "outputs": [],
   "source": [
    "with open(\"pages/mag-7.htm\") as file_reader:\n",
    "    soup = BeautifulSoup(file_reader, \"lxml\")"
   ]
  },
  {
   "cell_type": "code",
   "execution_count": 31,
   "metadata": {},
   "outputs": [
    {
     "name": "stdout",
     "output_type": "stream",
     "text": [
      "MAG-7 | SWAG-7\n"
     ]
    }
   ],
   "source": [
    "print(soup.find(\"h3\").get_text())\n",
    "names = soup.find_all(\"h3\", \"name\")\n",
    "classification = soup.find_all(\"div\", \"center item-rare\")\n",
    "tb = soup.find_all(\"table\", \"table table-hover table-condensed mb-none\")"
   ]
  },
  {
   "cell_type": "code",
   "execution_count": 30,
   "metadata": {},
   "outputs": [
    {
     "name": "stdout",
     "output_type": "stream",
     "text": [
      "MAG-7 | SWAG-7\n",
      "MAG-7 | Core Breach\n",
      "MAG-7 | Bulldozer\n",
      "MAG-7 | Heaven Guard\n",
      "MAG-7 | Petroglyph\n",
      "MAG-7 | Popdog\n",
      "MAG-7 | Sonar\n",
      "MAG-7 | Firestarter\n",
      "MAG-7 | Metallic DDPAT\n",
      "MAG-7 | Rust Coat\n",
      "MAG-7 | Justice\n",
      "MAG-7 | Silver\n",
      "MAG-7 | Memento\n",
      "MAG-7 | Storm\n",
      "MAG-7 | Seabird\n",
      "MAG-7 | Cobalt Core\n",
      "MAG-7 | Sand Dune\n",
      "MAG-7 | Cinquedea\n",
      "MAG-7 | Heat\n",
      "MAG-7 | Chainmail\n",
      "MAG-7 | Irradiated Alert\n",
      "MAG-7 | Hard Water\n",
      "MAG-7 | Counter Terrace\n",
      "MAG-7 | Praetorian\n",
      "MAG-7 | Hazard\n",
      "\n",
      "Restricted\n",
      "\n",
      "\n",
      "Restricted\n",
      "\n",
      "\n",
      "Restricted\n",
      "\n",
      "\n",
      "Mil-Spec\n",
      "\n",
      "\n",
      "Restricted\n",
      "\n",
      "\n",
      "Mil-Spec\n",
      "\n",
      "\n",
      "Mil-Spec\n",
      "\n",
      "\n",
      "Mil-Spec\n",
      "\n",
      "\n",
      "Industrial Grade\n",
      "\n",
      "\n",
      "Consumer Grade\n",
      "\n",
      "\n",
      "Classified\n",
      "\n",
      "\n",
      "Industrial Grade\n",
      "\n",
      "\n",
      "Mil-Spec\n",
      "\n",
      "\n",
      "Consumer Grade\n",
      "\n",
      "\n",
      "Consumer Grade\n",
      "\n",
      "\n",
      "Mil-Spec\n",
      "\n",
      "\n",
      "Consumer Grade\n",
      "\n",
      "\n",
      "Classified\n",
      "\n",
      "\n",
      "Restricted\n",
      "\n",
      "\n",
      "Industrial Grade\n",
      "\n",
      "\n",
      "Consumer Grade\n",
      "\n",
      "\n",
      "Mil-Spec\n",
      "\n",
      "\n",
      "Mil-Spec\n",
      "\n",
      "\n",
      "Restricted\n",
      "\n",
      "\n",
      "Mil-Spec\n",
      "\n"
     ]
    }
   ],
   "source": [
    "for b in names:\n",
    "    print(b.get_text())\n",
    "for b in classification:\n",
    "    print(b.get_text())"
   ]
  },
  {
   "cell_type": "code",
   "execution_count": 34,
   "metadata": {},
   "outputs": [
    {
     "name": "stdout",
     "output_type": "stream",
     "text": [
      "<tbody><tr><td>Factory New</td><td class=\"text-right\"><i aria-hidden=\"true\" class=\"fa fa-angle-down red\"></i> $ <span>1.69</span></td><td class=\"text-right items-on-market\"><i aria-hidden=\"true\" class=\"fa fa-steam\"></i> 126</td></tr><tr><td>Minimal Wear</td><td class=\"text-right\"><i aria-hidden=\"true\" class=\"fa fa-angle-up green\"></i> $ <span>0.76</span></td><td class=\"text-right items-on-market\"><i aria-hidden=\"true\" class=\"fa fa-steam\"></i> 273</td></tr><tr><td>Field-Tested</td><td class=\"text-right\"><i aria-hidden=\"true\" class=\"fa fa-angle-down red\"></i> $ <span>0.41</span></td><td class=\"text-right items-on-market\"><i aria-hidden=\"true\" class=\"fa fa-steam\"></i> 545</td></tr><tr><td>Well-Worn</td><td class=\"text-right\"><i aria-hidden=\"true\" class=\"fa fa-angle-up green\"></i> $ <span>0.41</span></td><td class=\"text-right items-on-market\"><i aria-hidden=\"true\" class=\"fa fa-steam\"></i> 295</td></tr><tr><td>Battle-Scarred</td><td class=\"text-right\"><i aria-hidden=\"true\" class=\"fa fa-angle-down red\"></i> $ <span>0.41</span></td><td class=\"text-right items-on-market\"><i aria-hidden=\"true\" class=\"fa fa-steam\"></i> 417</td></tr></tbody>\n"
     ]
    }
   ],
   "source": [
    "print(tb[0].find(\"tbody\"))\n",
    "table = tb[0].find(\"tbody\")"
   ]
  },
  {
   "cell_type": "code",
   "execution_count": 50,
   "metadata": {},
   "outputs": [],
   "source": [
    "data = []\n",
    "rows = table.find_all('tr')\n",
    "for row in rows:\n",
    "    cols = row.find_all('td')\n",
    "    cols = [ele.text.strip() for ele in cols]\n",
    "    data.append([ele for ele in cols if ele])"
   ]
  },
  {
   "cell_type": "code",
   "execution_count": 51,
   "metadata": {},
   "outputs": [
    {
     "data": {
      "text/plain": [
       "[['Factory New', '$ 1.69', '126'],\n",
       " ['Minimal Wear', '$ 0.76', '273'],\n",
       " ['Field-Tested', '$ 0.41', '545'],\n",
       " ['Well-Worn', '$ 0.41', '295'],\n",
       " ['Battle-Scarred', '$ 0.41', '417']]"
      ]
     },
     "execution_count": 51,
     "metadata": {},
     "output_type": "execute_result"
    }
   ],
   "source": [
    "data"
   ]
  },
  {
   "cell_type": "code",
   "execution_count": null,
   "metadata": {},
   "outputs": [],
   "source": []
  }
 ],
 "metadata": {
  "kernelspec": {
   "display_name": "Python 3",
   "language": "python",
   "name": "python3"
  },
  "language_info": {
   "codemirror_mode": {
    "name": "ipython",
    "version": 3
   },
   "file_extension": ".py",
   "mimetype": "text/x-python",
   "name": "python",
   "nbconvert_exporter": "python",
   "pygments_lexer": "ipython3",
   "version": "3.6.5"
  }
 },
 "nbformat": 4,
 "nbformat_minor": 2
}
