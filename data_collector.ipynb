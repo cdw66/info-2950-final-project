{
 "cells": [
  {
   "cell_type": "code",
   "execution_count": 1,
   "metadata": {},
   "outputs": [],
   "source": [
    "from bs4 import BeautifulSoup\n",
    "import numpy as np\n",
    "import pandas as pd"
   ]
  },
  {
   "cell_type": "code",
   "execution_count": 2,
   "metadata": {},
   "outputs": [],
   "source": [
    "#weapons = pd.DataFrame(columns=['gun', 'skin', 'rarity', 'quality', 'price', 'quantity'])"
   ]
  },
  {
   "cell_type": "code",
   "execution_count": 3,
   "metadata": {},
   "outputs": [
    {
     "data": {
      "text/plain": [
       "'\\nall_skins = soup.find_all(\"li\",\"col-lg-3 col-md-4 col-sm-6 col-xs-12 element-item grid-item\")\\nindex = 0\\nfor s in all_skins:\\n    name = s.find(\"h3\", \"name\").get_text()\\n    classification = s.find(\"div\", \"center item-rare\").get_text()\\n    tb = s.find_all(\"table\", \"table table-hover table-condensed mb-none\")\\n    tables = []\\n    for t in tb:\\n        table = t.find(\"tbody\")\\n        t_data = []\\n        rows = table.find_all(\\'tr\\')\\n        for row in rows:\\n            cols = row.find_all(\\'td\\')\\n            cols = [ele.text.strip() for ele in cols]\\n            t_data.append([ele for ele in cols if ele])\\n        tables.append(t_data)\\n        for tab in tables:\\n            for r in tab:\\n                #print(r)\\n                weapons.loc[index] = [name.split(\\'|\\')[0]] + [name.split(\\'|\\')[1]] + [classification] + [r[0]] + [r[1]] + [r[2]]\\n                index=index+1\\nweapons.head()\\n'"
      ]
     },
     "execution_count": 3,
     "metadata": {},
     "output_type": "execute_result"
    }
   ],
   "source": [
    "\n",
    "'''\n",
    "all_skins = soup.find_all(\"li\",\"col-lg-3 col-md-4 col-sm-6 col-xs-12 element-item grid-item\")\n",
    "index = 0\n",
    "for s in all_skins:\n",
    "    name = s.find(\"h3\", \"name\").get_text()\n",
    "    classification = s.find(\"div\", \"center item-rare\").get_text()\n",
    "    tb = s.find_all(\"table\", \"table table-hover table-condensed mb-none\")\n",
    "    tables = []\n",
    "    for t in tb:\n",
    "        table = t.find(\"tbody\")\n",
    "        t_data = []\n",
    "        rows = table.find_all('tr')\n",
    "        for row in rows:\n",
    "            cols = row.find_all('td')\n",
    "            cols = [ele.text.strip() for ele in cols]\n",
    "            t_data.append([ele for ele in cols if ele])\n",
    "        tables.append(t_data)\n",
    "        for tab in tables:\n",
    "            for r in tab:\n",
    "                #print(r)\n",
    "                weapons.loc[index] = [name.split('|')[0]] + [name.split('|')[1]] + [classification] + [r[0]] + [r[1]] + [r[2]]\n",
    "                index=index+1\n",
    "weapons.head()\n",
    "'''\n"
   ]
  },
  {
   "cell_type": "code",
   "execution_count": 4,
   "metadata": {},
   "outputs": [],
   "source": [
    "weapons = pd.DataFrame(columns=['gun', 'skin', 'rarity', 'quality', 'price', 'quantity'])"
   ]
  },
  {
   "cell_type": "code",
   "execution_count": 5,
   "metadata": {},
   "outputs": [],
   "source": [
    "import os\n",
    "\n",
    "path = os.getcwd()\n",
    "index=0\n",
    "for htmlfile in os.listdir(path):\n",
    "    if htmlfile.endswith(\".htm\"):\n",
    "        with open(htmlfile) as file_reader:\n",
    "            soup = BeautifulSoup(file_reader, \"lxml\")\n",
    "            all_skins = soup.find_all(\"li\",\"col-lg-3 col-md-4 col-sm-6 col-xs-12 element-item grid-item\")\n",
    "            index = 0\n",
    "            for s in all_skins:\n",
    "                name = s.find(\"h3\", \"name\").get_text()\n",
    "                classification = s.find(\"div\", \"center item-rare\").get_text()\n",
    "                tb = s.find_all(\"table\", \"table table-hover table-condensed mb-none\")\n",
    "                tables = []\n",
    "                for t in tb:\n",
    "                    table = t.find(\"tbody\")\n",
    "                    t_data = []\n",
    "                    rows = table.find_all('tr')\n",
    "                    for row in rows:\n",
    "                        cols = row.find_all('td')\n",
    "                        cols = [ele.text.strip() for ele in cols]\n",
    "                        t_data.append([ele for ele in cols if ele])\n",
    "                    tables.append(t_data)\n",
    "                    for tab in tables:\n",
    "                        for r in tab:\n",
    "                            #print(r)\n",
    "                            weapons.loc[index] = [name.split('|')[0]] + [name.split('|')[1]] + [classification] + [r[0]] + [r[1]] + [r[2]]\n",
    "                            index=index+1"
   ]
  },
  {
   "cell_type": "code",
   "execution_count": 8,
   "metadata": {},
   "outputs": [],
   "source": [
    "weapons.head(20)\n",
    "weapons.to_csv('dataset.csv')"
   ]
  },
  {
   "cell_type": "code",
   "execution_count": 218,
   "metadata": {},
   "outputs": [
    {
     "data": {
      "text/plain": [
       "gun                       P90 \n",
       "skin                  Scorched\n",
       "rarity      \\nConsumer Grade\\n\n",
       "quality         Battle-Scarred\n",
       "price                   $ 0.23\n",
       "quantity                   173\n",
       "Name: 190, dtype: object"
      ]
     },
     "execution_count": 218,
     "metadata": {},
     "output_type": "execute_result"
    }
   ],
   "source": []
  },
  {
   "cell_type": "code",
   "execution_count": null,
   "metadata": {},
   "outputs": [],
   "source": []
  }
 ],
 "metadata": {
  "kernelspec": {
   "display_name": "Python 3",
   "language": "python",
   "name": "python3"
  },
  "language_info": {
   "codemirror_mode": {
    "name": "ipython",
    "version": 3
   },
   "file_extension": ".py",
   "mimetype": "text/x-python",
   "name": "python",
   "nbconvert_exporter": "python",
   "pygments_lexer": "ipython3",
   "version": "3.6.5"
  }
 },
 "nbformat": 4,
 "nbformat_minor": 2
}
