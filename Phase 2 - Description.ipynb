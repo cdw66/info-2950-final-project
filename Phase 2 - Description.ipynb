{
 "cells": [
  {
   "cell_type": "markdown",
   "metadata": {},
   "source": [
    "**INFO 2950: Final Project Phase 2**\n",
    "\n",
    "By: Carter Wein (cdw99), Ben Stewart (bls245), and Jack Pilon (jlp367)"
   ]
  },
  {
   "cell_type": "code",
   "execution_count": 5,
   "metadata": {},
   "outputs": [],
   "source": [
    "import pandas as pd"
   ]
  },
  {
   "cell_type": "markdown",
   "metadata": {},
   "source": [
    "Below is a .head() function of our dataset, which is located within our zipped folder. The code we used for scraping and cleaning is called \"list-printer.ipynb\" located within the folder \"html-data-generation copy\" within our zipped folder. This is all on our group's GitHub, which can be accessed with this link: https://github.com/cdw66/info-2950-final-project"
   ]
  },
  {
   "cell_type": "code",
   "execution_count": 6,
   "metadata": {},
   "outputs": [
    {
     "data": {
      "text/html": [
       "<div>\n",
       "<style scoped>\n",
       "    .dataframe tbody tr th:only-of-type {\n",
       "        vertical-align: middle;\n",
       "    }\n",
       "\n",
       "    .dataframe tbody tr th {\n",
       "        vertical-align: top;\n",
       "    }\n",
       "\n",
       "    .dataframe thead th {\n",
       "        text-align: right;\n",
       "    }\n",
       "</style>\n",
       "<table border=\"1\" class=\"dataframe\">\n",
       "  <thead>\n",
       "    <tr style=\"text-align: right;\">\n",
       "      <th></th>\n",
       "      <th>Unnamed: 0</th>\n",
       "      <th>gun</th>\n",
       "      <th>skin</th>\n",
       "      <th>rarity</th>\n",
       "      <th>quality</th>\n",
       "      <th>price</th>\n",
       "      <th>quantity</th>\n",
       "    </tr>\n",
       "  </thead>\n",
       "  <tbody>\n",
       "    <tr>\n",
       "      <th>0</th>\n",
       "      <td>0</td>\n",
       "      <td>AK-47</td>\n",
       "      <td>Point Disarray</td>\n",
       "      <td>Classified</td>\n",
       "      <td>Factory New</td>\n",
       "      <td>$ 45.05</td>\n",
       "      <td>44.0</td>\n",
       "    </tr>\n",
       "    <tr>\n",
       "      <th>1</th>\n",
       "      <td>1</td>\n",
       "      <td>AK-47</td>\n",
       "      <td>Point Disarray</td>\n",
       "      <td>Classified</td>\n",
       "      <td>Minimal Wear</td>\n",
       "      <td>$ 31.35</td>\n",
       "      <td>81.0</td>\n",
       "    </tr>\n",
       "    <tr>\n",
       "      <th>2</th>\n",
       "      <td>2</td>\n",
       "      <td>AK-47</td>\n",
       "      <td>Point Disarray</td>\n",
       "      <td>Classified</td>\n",
       "      <td>Field-Tested</td>\n",
       "      <td>$ 19.59</td>\n",
       "      <td>122.0</td>\n",
       "    </tr>\n",
       "    <tr>\n",
       "      <th>3</th>\n",
       "      <td>3</td>\n",
       "      <td>AK-47</td>\n",
       "      <td>Point Disarray</td>\n",
       "      <td>Classified</td>\n",
       "      <td>Well-Worn</td>\n",
       "      <td>$ 22.82</td>\n",
       "      <td>17.0</td>\n",
       "    </tr>\n",
       "    <tr>\n",
       "      <th>4</th>\n",
       "      <td>4</td>\n",
       "      <td>AK-47</td>\n",
       "      <td>Point Disarray</td>\n",
       "      <td>Classified</td>\n",
       "      <td>Battle-Scarred</td>\n",
       "      <td>$ 16.42</td>\n",
       "      <td>40.0</td>\n",
       "    </tr>\n",
       "  </tbody>\n",
       "</table>\n",
       "</div>"
      ],
      "text/plain": [
       "   Unnamed: 0     gun             skin      rarity         quality     price  \\\n",
       "0           0  AK-47    Point Disarray  Classified     Factory New   $ 45.05   \n",
       "1           1  AK-47    Point Disarray  Classified    Minimal Wear   $ 31.35   \n",
       "2           2  AK-47    Point Disarray  Classified    Field-Tested   $ 19.59   \n",
       "3           3  AK-47    Point Disarray  Classified       Well-Worn   $ 22.82   \n",
       "4           4  AK-47    Point Disarray  Classified  Battle-Scarred   $ 16.42   \n",
       "\n",
       "   quantity  \n",
       "0      44.0  \n",
       "1      81.0  \n",
       "2     122.0  \n",
       "3      17.0  \n",
       "4      40.0  "
      ]
     },
     "execution_count": 6,
     "metadata": {},
     "output_type": "execute_result"
    }
   ],
   "source": [
    "csgo_dataset = pd.read_csv('dataset copy.csv')\n",
    "csgo_dataset.head()"
   ]
  },
  {
   "cell_type": "markdown",
   "metadata": {},
   "source": [
    "Below is our data description:"
   ]
  },
  {
   "cell_type": "markdown",
   "metadata": {},
   "source": [
    "Our dataset analyzes the virtual market of customizable “skins” of the popular game, Counter-Strike: Global Offensive. Commonly known as CS:GO, this game is famous for its complex online market for the in-game customizable skins. Many of the skins, despite their strictly cosmetic function, are highly sought after, and can fetch a high price online. The game made major news headlines when one skin sold for over $61,000 online. As crazy as it sounds, this online market has become a business, where players can buy, sell, and trade skins for real-world monetary gain. In this project, our team’s goal will be developing a model that analyzes the different aspects of these weapons and skins, and what makes some worth much more than others.\n",
    "\n",
    "We have begun construction on our dataset, and it is mostly complete. We could not find a pre-existing dataset that would fit our model, and thus we resorted to web-scraping to create our own. We utilized the website csgolist.com, which posts information about each weapon available in-game, the different skins, and associated attributes. We started by extracting roughly 50 html files, one per weapon available in the game. Then, we worked to create a code that would extract the information within those html files and format the results into a pandas dataframe. We wanted to construct a dataset that each observation (row) would represent one specialized type of gun, including the attributes: \n",
    "\n",
    "    Weapon name\n",
    "    Skin name\n",
    "    In-game rarity level \n",
    "    Quality level\n",
    "    Current price (USD)\n",
    "    Quantity currently available for sale (as of May 6th, 2020)\n",
    " \n",
    "For clarification, “in-game rarity level” refers to how rare the game labels the weapon (in tiers) and “quality level” refers to what quality the skin is. Think of this like a card collection; some cards are mint, and others are used. Believe it or not, when you receive a skin in the game, it automatically is given a quality value where it’s on a scale from “factory new” (most visible on the weapon) to “battle scarred” (faded and less visible). Think of “factory new” as mint, and “battle scarred” as a heavily-used. These attributes (columns) of our dataset caused a few problems that we had to overcome. For starters, some skins only come “factory new” while others can come in a range of different qualities. When iterating through our html data, we had to take extra steps in our code to make sure each table was being accurately sent to our dataframe, despite each table having a different length. If we didn’t, we would have had several “blanks” in our dataset as the algorithm would have believed each weapon contained different quality levels, where some weapons only had one. Another issue that we encountered was that some weapons and rarity levels had dashes between words while others used spaces, and the names are generally very different: some use letters, some use numbers and symbols, and some use a combination of the three. This created some issues when importing the data into lists, and thus resulted in extra regex equations that got complex. We may remove the regex equations for this reason if we add more attributes to our dataset as it is getting increasingly complex. Also, while iterating through the weapon names to see their attributes, we faced an issue where some weapons have a “standard version,” and others may or may not have a “special version” that give players different customizations within the game. This causes some rows to have the same weapon and skin name, with the other attributes having different values. When trying to create for loops, this was a huge challenge as python wanted to iterate these as separate tables, when we wanted them combined. Luckily, by looping through the length of the table, we were able to automate this process and combine all the tables into one dataset.\n",
    "\t\n",
    "As far as our sources, as stated we used csgolist.com to scrape our data and create our own dataset. There are several sites like this on the internet that record data on CS:GO skins, however we chose this site as it has a lot of data on different attributes, and is currently updating, so we could get data from May of 2020. In terms of who funded this dataset, we created our own, and we believe the source we scraped from is run by CS:GO players who are interested in the skin market themselves, as the website’s footer reads, “CSGOLIST is all made with a passion for CS:GO. Show us some love, by donating.”\n",
    "\t\n",
    "We’d like to think our current dataset is very comprehensive, and provides more than enough data and attributes to help us make a complex model. However, two things we are likely going to add in the final version are attributes for weapon type (gun or knife) and as mentioned before, whether the row’s data includes the “standard” or “special” versions of the weapon. All in all, there is a complex online market for CS:GO skins, and we believe this dataset will help us create a model capable of analyzing which attributes are linked to higher listing prices."
   ]
  },
  {
   "cell_type": "code",
   "execution_count": null,
   "metadata": {},
   "outputs": [],
   "source": []
  }
 ],
 "metadata": {
  "kernelspec": {
   "display_name": "Python 3",
   "language": "python",
   "name": "python3"
  },
  "language_info": {
   "codemirror_mode": {
    "name": "ipython",
    "version": 3
   },
   "file_extension": ".py",
   "mimetype": "text/x-python",
   "name": "python",
   "nbconvert_exporter": "python",
   "pygments_lexer": "ipython3",
   "version": "3.7.3"
  }
 },
 "nbformat": 4,
 "nbformat_minor": 2
}
