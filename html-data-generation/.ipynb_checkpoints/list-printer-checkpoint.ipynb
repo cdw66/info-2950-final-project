{
 "cells": [
  {
   "cell_type": "code",
   "execution_count": 4,
   "metadata": {},
   "outputs": [],
   "source": [
    "import pandas as pd\n",
    "import numpy as np\n",
    "from bs4 import BeautifulSoup\n",
    "import re"
   ]
  },
  {
   "cell_type": "code",
   "execution_count": 5,
   "metadata": {},
   "outputs": [],
   "source": [
    "weapons = pd.DataFrame(columns=['gun', 'skin', 'rarity', 'quality', 'price', 'quantity'])"
   ]
  },
  {
   "cell_type": "code",
   "execution_count": 6,
   "metadata": {},
   "outputs": [],
   "source": [
    "#tables = soup.find_all(\"div\", \"tab-content\")\n",
    "import os\n",
    "\n",
    "path = os.getcwd()\n",
    "index=0\n",
    "for htmlfile in os.listdir(path):\n",
    "    if htmlfile.endswith(\".htm\"):\n",
    "        with open(htmlfile) as file_reader:\n",
    "            soup = BeautifulSoup(file_reader, \"lxml\")\n",
    "            tables = soup.find_all(\"div\", \"tab-content\")\n",
    "            for table in tables:\n",
    "                rows = table.find_all(\"tr\")\n",
    "                rarity_data = table.find_previous(\"div\", \"item-rare\").find('p').get_text()\n",
    "                searchObj = re.search(r'[a-zA-Z\\-]+', rarity_data)\n",
    "                rarity = searchObj.group()\n",
    "                for row in rows:\n",
    "                    data = []\n",
    "                    title = row.find_previous(\"h3\").get_text()\n",
    "                    #searchObj = re.search( r'([a-zA-Z0-9\\-]+ *[a-zA-Z0-9]*) \\| ([a-zA-Z0-9/-]+ *[a-zA-Z0-9]*)', title)\n",
    "                    #weapon_name = searchObj.group(1)\n",
    "                    #weapon_skin = searchObj.group(2)\n",
    "                    weapon_name = title.split('|')[0]\n",
    "                    weapon_skin = title.split('|')[1]\n",
    "                    data.append(weapon_name)\n",
    "                    data.append(weapon_skin)\n",
    "                    data.append(rarity)\n",
    "                    cols = row.find_all('td')\n",
    "                    cols = [ele.text for ele in cols]\n",
    "                    for ele in cols:\n",
    "                        data.append(ele)\n",
    "                    weapon = {'gun':data[0], 'skin':data[1], 'rarity':data[2], 'quality':data[3], 'price':data[4],'quantity':data[5]}\n",
    "                    #print(data)\n",
    "                    #print()\n",
    "                    weapons = weapons.append(weapon, ignore_index=True)\n",
    "                    #print(weapon)\n",
    "\n",
    "weapons.to_csv('dataset.csv')"
   ]
  },
  {
   "cell_type": "code",
   "execution_count": 7,
   "metadata": {},
   "outputs": [
    {
     "data": {
      "text/plain": [
       "7091"
      ]
     },
     "execution_count": 7,
     "metadata": {},
     "output_type": "execute_result"
    }
   ],
   "source": [
    "len(weapons)"
   ]
  },
  {
   "cell_type": "code",
   "execution_count": null,
   "metadata": {},
   "outputs": [],
   "source": []
  }
 ],
 "metadata": {
  "kernelspec": {
   "display_name": "Python 3",
   "language": "python",
   "name": "python3"
  },
  "language_info": {
   "codemirror_mode": {
    "name": "ipython",
    "version": 3
   },
   "file_extension": ".py",
   "mimetype": "text/x-python",
   "name": "python",
   "nbconvert_exporter": "python",
   "pygments_lexer": "ipython3",
   "version": "3.6.5"
  }
 },
 "nbformat": 4,
 "nbformat_minor": 4
}
