{
 "cells": [
  {
   "cell_type": "code",
   "execution_count": 1,
   "metadata": {},
   "outputs": [],
   "source": [
    "## New edition of List-Printer that saves data to \"dataset.csv\"\n",
    "## Includes Stat-Trak Column (1 = Stat-Trak, 0 = Not Stat-Trak)\n",
    "## Cuts out \"$\" in item price\n",
    "\n",
    "import pandas as pd\n",
    "import numpy as np\n",
    "from bs4 import BeautifulSoup\n",
    "import re"
   ]
  },
  {
   "cell_type": "code",
   "execution_count": 2,
   "metadata": {},
   "outputs": [],
   "source": [
    "weapons = pd.DataFrame(columns=['gun', 'skin', 'rarity', 'stattrak', 'quality', 'price', 'quantity'])\n",
    "#tables = soup.find_all(\"div\", \"tab-content\")\n",
    "import os\n",
    "\n",
    "path = os.getcwd()\n",
    "index=0\n",
    "for htmlfile in os.listdir(path):\n",
    "    if htmlfile.endswith(\".htm\"):\n",
    "        with open(htmlfile) as file_reader:\n",
    "            soup = BeautifulSoup(file_reader, \"lxml\")\n",
    "            tables = soup.find_all(\"div\", \"tab-content\")\n",
    "            for table in tables:\n",
    "                rows = table.find_all(\"tr\")\n",
    "                rarity_data = table.find_previous(\"div\", \"item-rare\").find('p').get_text()\n",
    "                searchObj = re.search(r'[a-zA-Z\\-/s]+', rarity_data)\n",
    "                rarity = searchObj.group()\n",
    "                for row in rows:\n",
    "\n",
    "                    data = []\n",
    "                    title = row.find_previous(\"h3\").get_text()\n",
    "                    #searchObj = re.search( r'([a-zA-Z0-9\\-]+ *[a-zA-Z0-9]*) \\| ([a-zA-Z0-9/-]+ *[a-zA-Z0-9]*)', title)\n",
    "                    #weapon_name = searchObj.group(1)\n",
    "                    #weapon_skin = searchObj.group(2)\n",
    "                    weapon_name = title.split('|')[0]\n",
    "                    weapon_skin = title.split('|')[1]\n",
    "                    data.append(weapon_name)\n",
    "                    data.append(weapon_skin)\n",
    "                    data.append(rarity)\n",
    "                    cols = row.find_all('td')\n",
    "                    cols = [ele.text for ele in cols]\n",
    "                    if(cols[0][0] == \" \"): #All Stat-Trak items have a space as their first character\n",
    "                        data.append(1)\n",
    "                    else:\n",
    "                        data.append(0)\n",
    "                        \n",
    "                    for ele in cols:\n",
    "                        data.append(ele)\n",
    "\n",
    "                    weapon = {'gun':data[0], 'skin':data[1], 'rarity':data[2], 'stattrak':data[3], 'quality':data[4], 'price':data[5][2:],'quantity':data[6]}\n",
    "                    #print(data[5][2:])\n",
    "                    weapons = weapons.append(weapon, ignore_index=True)\n",
    "                    #print(weapon)\n",
    "\n",
    "weapons.to_csv('dataset.csv')"
   ]
  },
  {
   "cell_type": "code",
   "execution_count": 3,
   "metadata": {},
   "outputs": [
    {
     "data": {
      "text/plain": [
       "9872"
      ]
     },
     "execution_count": 3,
     "metadata": {},
     "output_type": "execute_result"
    }
   ],
   "source": [
    "len(weapons)"
   ]
  },
  {
   "cell_type": "code",
   "execution_count": null,
   "metadata": {},
   "outputs": [],
   "source": []
  }
 ],
 "metadata": {
  "kernelspec": {
   "display_name": "Python 3",
   "language": "python",
   "name": "python3"
  },
  "language_info": {
   "codemirror_mode": {
    "name": "ipython",
    "version": 3
   },
   "file_extension": ".py",
   "mimetype": "text/x-python",
   "name": "python",
   "nbconvert_exporter": "python",
   "pygments_lexer": "ipython3",
  }
 },
 "nbformat": 4,
 "nbformat_minor": 4
}
