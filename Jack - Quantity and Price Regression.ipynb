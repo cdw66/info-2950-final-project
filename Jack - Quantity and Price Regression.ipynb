{
 "cells": [
  {
   "cell_type": "code",
   "execution_count": 73,
   "metadata": {},
   "outputs": [],
   "source": [
    "import numpy as np\n",
    "import pandas as pd\n",
    "import matplotlib.pyplot as plt\n",
    "from sklearn.linear_model import LinearRegression"
   ]
  },
  {
   "cell_type": "code",
   "execution_count": 74,
   "metadata": {},
   "outputs": [
    {
     "data": {
      "text/html": [
       "<div>\n",
       "<style scoped>\n",
       "    .dataframe tbody tr th:only-of-type {\n",
       "        vertical-align: middle;\n",
       "    }\n",
       "\n",
       "    .dataframe tbody tr th {\n",
       "        vertical-align: top;\n",
       "    }\n",
       "\n",
       "    .dataframe thead th {\n",
       "        text-align: right;\n",
       "    }\n",
       "</style>\n",
       "<table border=\"1\" class=\"dataframe\">\n",
       "  <thead>\n",
       "    <tr style=\"text-align: right;\">\n",
       "      <th></th>\n",
       "      <th>Unnamed: 0</th>\n",
       "      <th>gun</th>\n",
       "      <th>skin</th>\n",
       "      <th>rarity</th>\n",
       "      <th>stattrak</th>\n",
       "      <th>quality</th>\n",
       "      <th>price</th>\n",
       "      <th>quantity</th>\n",
       "      <th>category</th>\n",
       "    </tr>\n",
       "  </thead>\n",
       "  <tbody>\n",
       "    <tr>\n",
       "      <th>0</th>\n",
       "      <td>0</td>\n",
       "      <td>AK-47</td>\n",
       "      <td>Point Disarray</td>\n",
       "      <td>5</td>\n",
       "      <td>0</td>\n",
       "      <td>5</td>\n",
       "      <td>45.05</td>\n",
       "      <td>44.0</td>\n",
       "      <td>rifle</td>\n",
       "    </tr>\n",
       "    <tr>\n",
       "      <th>1</th>\n",
       "      <td>1</td>\n",
       "      <td>AK-47</td>\n",
       "      <td>Point Disarray</td>\n",
       "      <td>5</td>\n",
       "      <td>0</td>\n",
       "      <td>4</td>\n",
       "      <td>31.35</td>\n",
       "      <td>81.0</td>\n",
       "      <td>rifle</td>\n",
       "    </tr>\n",
       "    <tr>\n",
       "      <th>2</th>\n",
       "      <td>2</td>\n",
       "      <td>AK-47</td>\n",
       "      <td>Point Disarray</td>\n",
       "      <td>5</td>\n",
       "      <td>0</td>\n",
       "      <td>3</td>\n",
       "      <td>19.59</td>\n",
       "      <td>122.0</td>\n",
       "      <td>rifle</td>\n",
       "    </tr>\n",
       "    <tr>\n",
       "      <th>3</th>\n",
       "      <td>3</td>\n",
       "      <td>AK-47</td>\n",
       "      <td>Point Disarray</td>\n",
       "      <td>5</td>\n",
       "      <td>0</td>\n",
       "      <td>2</td>\n",
       "      <td>22.82</td>\n",
       "      <td>17.0</td>\n",
       "      <td>rifle</td>\n",
       "    </tr>\n",
       "    <tr>\n",
       "      <th>4</th>\n",
       "      <td>4</td>\n",
       "      <td>AK-47</td>\n",
       "      <td>Point Disarray</td>\n",
       "      <td>5</td>\n",
       "      <td>0</td>\n",
       "      <td>1</td>\n",
       "      <td>16.42</td>\n",
       "      <td>40.0</td>\n",
       "      <td>rifle</td>\n",
       "    </tr>\n",
       "  </tbody>\n",
       "</table>\n",
       "</div>"
      ],
      "text/plain": [
       "   Unnamed: 0    gun             skin  rarity  stattrak  quality  price  \\\n",
       "0           0  AK-47   Point Disarray       5         0        5  45.05   \n",
       "1           1  AK-47   Point Disarray       5         0        4  31.35   \n",
       "2           2  AK-47   Point Disarray       5         0        3  19.59   \n",
       "3           3  AK-47   Point Disarray       5         0        2  22.82   \n",
       "4           4  AK-47   Point Disarray       5         0        1  16.42   \n",
       "\n",
       "   quantity category  \n",
       "0      44.0    rifle  \n",
       "1      81.0    rifle  \n",
       "2     122.0    rifle  \n",
       "3      17.0    rifle  \n",
       "4      40.0    rifle  "
      ]
     },
     "execution_count": 74,
     "metadata": {},
     "output_type": "execute_result"
    }
   ],
   "source": [
    "weapons = pd.read_csv(\"cleaned dataset with categories.csv\")\n",
    "weapons.head()"
   ]
  },
  {
   "cell_type": "markdown",
   "metadata": {},
   "source": [
    "**Section 1: Quality**"
   ]
  },
  {
   "cell_type": "code",
   "execution_count": 75,
   "metadata": {},
   "outputs": [
    {
     "name": "stdout",
     "output_type": "stream",
     "text": [
      "Quality Slope Value: 22.79831243295503\n"
     ]
    }
   ],
   "source": [
    "quality_model = LinearRegression().fit( weapons[['quality']], weapons[['price']])\n",
    "print(\"Quality Slope Value:\", quality_model.coef_[0,0])"
   ]
  },
  {
   "cell_type": "code",
   "execution_count": 76,
   "metadata": {},
   "outputs": [
    {
     "name": "stdout",
     "output_type": "stream",
     "text": [
      "Pistol Count: 2123\n",
      "Rifle Count: 2348\n",
      "SMG Count: 1457\n",
      "Heavy Count: 1089\n",
      "Knife Count: 2513\n"
     ]
    }
   ],
   "source": [
    "pistol_count = []\n",
    "\n",
    "for weapon_type in weapons['category']:\n",
    "    if weapon_type == 'pistol':\n",
    "        pistol_count.append(weapon_type)\n",
    "\n",
    "print(\"Pistol Count:\", len(pistol_count))\n",
    "\n",
    "rifle_count = []\n",
    "\n",
    "for weapon_type in weapons['category']:\n",
    "    if weapon_type == 'rifle':\n",
    "        rifle_count.append(weapon_type)\n",
    "\n",
    "print(\"Rifle Count:\",len(rifle_count))\n",
    "\n",
    "smg_count = []\n",
    "\n",
    "for weapon_type in weapons['category']:\n",
    "    if weapon_type == 'smg':\n",
    "        smg_count.append(weapon_type)\n",
    "\n",
    "print(\"SMG Count:\",len(smg_count))\n",
    "\n",
    "heavy_count = []\n",
    "\n",
    "for weapon_type in weapons['category']:\n",
    "    if weapon_type == 'heavy':\n",
    "        heavy_count.append(weapon_type)\n",
    "\n",
    "print(\"Heavy Count:\",len(heavy_count))\n",
    "\n",
    "knife_count = []\n",
    "\n",
    "for weapon_type in weapons['category']:\n",
    "    if weapon_type == 'knife':\n",
    "        knife_count.append(weapon_type)\n",
    "\n",
    "print(\"Knife Count:\",len(knife_count))"
   ]
  },
  {
   "cell_type": "code",
   "execution_count": 77,
   "metadata": {},
   "outputs": [
    {
     "name": "stdout",
     "output_type": "stream",
     "text": [
      "2123\n",
      "2348\n",
      "1457\n",
      "1089\n",
      "2513\n"
     ]
    }
   ],
   "source": [
    "pistol_and_quality = weapons[weapons.category == 'pistol']\n",
    "rifle_and_quality = weapons[weapons.category == 'rifle']\n",
    "smg_and_quality = weapons[weapons.category == 'smg']\n",
    "heavy_and_quality = weapons[weapons.category == 'heavy']\n",
    "knife_and_quality = weapons[weapons.category == 'knife']\n",
    "#pistol_and_quality.head()\n",
    "\n",
    "print(len(pistol_and_quality.index))\n",
    "print(len(rifle_and_quality.index))\n",
    "print(len(smg_and_quality.index))\n",
    "print(len(heavy_and_quality.index))\n",
    "print(len(knife_and_quality.index))"
   ]
  },
  {
   "cell_type": "code",
   "execution_count": 78,
   "metadata": {},
   "outputs": [
    {
     "name": "stdout",
     "output_type": "stream",
     "text": [
      "Pistol Quality Slope Value: 7.258428676920982\n",
      "Rifle Quality Slope Value: 13.196115805484402\n",
      "SMG Quality Slope Value: 3.371793010331965\n",
      "Heavy Quality Slope Value: 3.0392707340324137\n",
      "Knife Quality Slope Value: 66.3694763321295\n"
     ]
    }
   ],
   "source": [
    "pistol_quality_model = LinearRegression().fit( pistol_and_quality[['quality']], pistol_and_quality[['price']])\n",
    "print(\"Pistol Quality Slope Value:\", pistol_quality_model.coef_[0,0])\n",
    "\n",
    "rifle_quality_model = LinearRegression().fit( rifle_and_quality[['quality']], rifle_and_quality[['price']])\n",
    "print(\"Rifle Quality Slope Value:\", rifle_quality_model.coef_[0,0])\n",
    "\n",
    "smg_quality_model = LinearRegression().fit( smg_and_quality[['quality']], smg_and_quality[['price']])\n",
    "print(\"SMG Quality Slope Value:\", smg_quality_model.coef_[0,0])\n",
    "\n",
    "heavy_quality_model = LinearRegression().fit( heavy_and_quality[['quality']], heavy_and_quality[['price']])\n",
    "print(\"Heavy Quality Slope Value:\", heavy_quality_model.coef_[0,0])\n",
    "\n",
    "knife_quality_model = LinearRegression().fit( knife_and_quality[['quality']], knife_and_quality[['price']])\n",
    "print(\"Knife Quality Slope Value:\", knife_quality_model.coef_[0,0])"
   ]
  },
  {
   "cell_type": "code",
   "execution_count": 80,
   "metadata": {},
   "outputs": [],
   "source": [
    "pistol_quality_dummies = pd.get_dummies(pistol_and_quality['quality'])\n",
    "rifle_quality_dummies = pd.get_dummies(rifle_and_quality['quality'])\n",
    "smg_quality_dummies = pd.get_dummies(smg_and_quality['quality'])\n",
    "heavy_quality_dummies = pd.get_dummies(heavy_and_quality['quality'])\n",
    "knife_quality_dummies = pd.get_dummies(knife_and_quality['quality'])\n",
    "#pistol_quality_dummies.head()"
   ]
  },
  {
   "cell_type": "code",
   "execution_count": 85,
   "metadata": {},
   "outputs": [
    {
     "name": "stdout",
     "output_type": "stream",
     "text": [
      "Battle-Scarred Pistol Slope: -8.022669301988518\n",
      "Well-Worn Pistol Slope: -11.960831063794691\n",
      "Field-Tested Pistol Slope: -10.897404320765911\n",
      "Minimal Wear Pistol Slope: -2.3160014478826976\n",
      "Factory New Pistol Slope: 30.75879154022547\n"
     ]
    }
   ],
   "source": [
    "#For Qualities Within Pistols\n",
    "\n",
    "pistol_battlescarred_model = LinearRegression().fit( pistol_quality_dummies[[1]], pistol_and_quality[['price']])\n",
    "print(\"Battle-Scarred Pistol Slope:\", pistol_battlescarred_model.coef_[0,0])\n",
    "\n",
    "pistol_wellworn_model = LinearRegression().fit( pistol_quality_dummies[[2]], pistol_and_quality[['price']])\n",
    "print(\"Well-Worn Pistol Slope:\", pistol_wellworn_model.coef_[0,0])\n",
    "\n",
    "pistol_fieldtested_model = LinearRegression().fit( pistol_quality_dummies[[3]], pistol_and_quality[['price']])\n",
    "print(\"Field-Tested Pistol Slope:\", pistol_fieldtested_model.coef_[0,0])\n",
    "\n",
    "pistol_minimalwear_model = LinearRegression().fit( pistol_quality_dummies[[4]], pistol_and_quality[['price']])\n",
    "print(\"Minimal Wear Pistol Slope:\", pistol_minimalwear_model.coef_[0,0])\n",
    "\n",
    "pistol_factorynew_model = LinearRegression().fit( pistol_quality_dummies[[5]], pistol_and_quality[['price']])\n",
    "print(\"Factory New Pistol Slope:\", pistol_factorynew_model.coef_[0,0])"
   ]
  },
  {
   "cell_type": "code",
   "execution_count": 87,
   "metadata": {},
   "outputs": [
    {
     "name": "stdout",
     "output_type": "stream",
     "text": [
      "Battle-Scarred Rifle Slope: -19.817787569415852\n",
      "Well-Worn Rifle Slope: -18.77235105974088\n",
      "Field-Tested Rifle Slope: -16.528652393596296\n",
      "Minimal Wear Rifle Slope: 4.425637020393562\n",
      "Factory New Rifle Slope: 49.889989829101516\n"
     ]
    }
   ],
   "source": [
    "#For Qualities Within Rifles\n",
    "\n",
    "rifle_battlescarred_model = LinearRegression().fit( rifle_quality_dummies[[1]], rifle_and_quality[['price']])\n",
    "print(\"Battle-Scarred Rifle Slope:\", rifle_battlescarred_model.coef_[0,0])\n",
    "\n",
    "rifle_wellworn_model = LinearRegression().fit( rifle_quality_dummies[[2]], rifle_and_quality[['price']])\n",
    "print(\"Well-Worn Rifle Slope:\", rifle_wellworn_model.coef_[0,0])\n",
    "\n",
    "rifle_fieldtested_model = LinearRegression().fit( rifle_quality_dummies[[3]], rifle_and_quality[['price']])\n",
    "print(\"Field-Tested Rifle Slope:\", rifle_fieldtested_model.coef_[0,0])\n",
    "\n",
    "rifle_minimalwear_model = LinearRegression().fit( rifle_quality_dummies[[4]], rifle_and_quality[['price']])\n",
    "print(\"Minimal Wear Rifle Slope:\", rifle_minimalwear_model.coef_[0,0])\n",
    "\n",
    "rifle_factorynew_model = LinearRegression().fit( rifle_quality_dummies[[5]], rifle_and_quality[['price']])\n",
    "print(\"Factory New Rifle Slope:\", rifle_factorynew_model.coef_[0,0])"
   ]
  },
  {
   "cell_type": "code",
   "execution_count": 88,
   "metadata": {},
   "outputs": [
    {
     "name": "stdout",
     "output_type": "stream",
     "text": [
      "Battle-Scarred SMG Slope: -5.0793239844573375\n",
      "Well-Worn SMG Slope: -4.438753570965802\n",
      "Field-Tested SMG Slope: -4.449994937968664\n",
      "Minimal Wear SMG Slope: -0.5657874227581838\n",
      "Factory New SMG Slope: 13.543286826459521\n"
     ]
    }
   ],
   "source": [
    "#For Qualities Within SMGs\n",
    "\n",
    "smg_battlescarred_model = LinearRegression().fit( smg_quality_dummies[[1]], smg_and_quality[['price']])\n",
    "print(\"Battle-Scarred SMG Slope:\", smg_battlescarred_model.coef_[0,0])\n",
    "\n",
    "smg_wellworn_model = LinearRegression().fit( smg_quality_dummies[[2]], smg_and_quality[['price']])\n",
    "print(\"Well-Worn SMG Slope:\", smg_wellworn_model.coef_[0,0])\n",
    "\n",
    "smg_fieldtested_model = LinearRegression().fit( smg_quality_dummies[[3]], smg_and_quality[['price']])\n",
    "print(\"Field-Tested SMG Slope:\", smg_fieldtested_model.coef_[0,0])\n",
    "\n",
    "smg_minimalwear_model = LinearRegression().fit( smg_quality_dummies[[4]], smg_and_quality[['price']])\n",
    "print(\"Minimal Wear SMG Slope:\", smg_minimalwear_model.coef_[0,0])\n",
    "\n",
    "smg_factorynew_model = LinearRegression().fit( smg_quality_dummies[[5]], smg_and_quality[['price']])\n",
    "print(\"Factory New SMG Slope:\", smg_factorynew_model.coef_[0,0])"
   ]
  },
  {
   "cell_type": "code",
   "execution_count": 89,
   "metadata": {},
   "outputs": [
    {
     "name": "stdout",
     "output_type": "stream",
     "text": [
      "Battle-Scarred Heavy Slope: -4.562788359788355\n",
      "Well-Worn Heavy Slope: -2.268921450085824\n",
      "Field-Tested Heavy Slope: -5.902511268742912\n",
      "Minimal Wear Heavy Slope: -1.3333994674826617\n",
      "Factory New Heavy Slope: 13.432552220592898\n"
     ]
    }
   ],
   "source": [
    "#For Qualities Within Heavys\n",
    "\n",
    "heavy_battlescarred_model = LinearRegression().fit( heavy_quality_dummies[[1]], heavy_and_quality[['price']])\n",
    "print(\"Battle-Scarred Heavy Slope:\", heavy_battlescarred_model.coef_[0,0])\n",
    "\n",
    "heavy_wellworn_model = LinearRegression().fit( heavy_quality_dummies[[2]], heavy_and_quality[['price']])\n",
    "print(\"Well-Worn Heavy Slope:\", heavy_wellworn_model.coef_[0,0])\n",
    "\n",
    "heavy_fieldtested_model = LinearRegression().fit( heavy_quality_dummies[[3]], heavy_and_quality[['price']])\n",
    "print(\"Field-Tested Heavy Slope:\", heavy_fieldtested_model.coef_[0,0])\n",
    "\n",
    "heavy_minimalwear_model = LinearRegression().fit( heavy_quality_dummies[[4]], heavy_and_quality[['price']])\n",
    "print(\"Minimal Wear Heavy Slope:\", heavy_minimalwear_model.coef_[0,0])\n",
    "\n",
    "heavy_factorynew_model = LinearRegression().fit( heavy_quality_dummies[[5]], heavy_and_quality[['price']])\n",
    "print(\"Factory New Heavy Slope:\", heavy_factorynew_model.coef_[0,0])"
   ]
  },
  {
   "cell_type": "code",
   "execution_count": 90,
   "metadata": {},
   "outputs": [
    {
     "name": "stdout",
     "output_type": "stream",
     "text": [
      "Battle-Scarred Knife Slope: -111.90878138115599\n",
      "Well-Worn Knife Slope: -99.37527952803147\n",
      "Field-Tested Knife Slope: -87.14971569526348\n",
      "Minimal Wear Knife Slope: 63.29113050581406\n",
      "Factory New Knife Slope: 218.86836567430606\n"
     ]
    }
   ],
   "source": [
    "#For Qualities Within Knives\n",
    "\n",
    "knife_battlescarred_model = LinearRegression().fit( knife_quality_dummies[[1]], knife_and_quality[['price']])\n",
    "print(\"Battle-Scarred Knife Slope:\", knife_battlescarred_model.coef_[0,0])\n",
    "\n",
    "knife_wellworn_model = LinearRegression().fit( knife_quality_dummies[[2]], knife_and_quality[['price']])\n",
    "print(\"Well-Worn Knife Slope:\", knife_wellworn_model.coef_[0,0])\n",
    "\n",
    "knife_fieldtested_model = LinearRegression().fit( knife_quality_dummies[[3]], knife_and_quality[['price']])\n",
    "print(\"Field-Tested Knife Slope:\", knife_fieldtested_model.coef_[0,0])\n",
    "\n",
    "knife_minimalwear_model = LinearRegression().fit( knife_quality_dummies[[4]], knife_and_quality[['price']])\n",
    "print(\"Minimal Wear Knife Slope:\", knife_minimalwear_model.coef_[0,0])\n",
    "\n",
    "knife_factorynew_model = LinearRegression().fit( knife_quality_dummies[[5]], knife_and_quality[['price']])\n",
    "print(\"Factory New Knife Slope:\", knife_factorynew_model.coef_[0,0])"
   ]
  },
  {
   "cell_type": "code",
   "execution_count": 115,
   "metadata": {},
   "outputs": [
    {
     "data": {
      "image/png": "[encoded data removed]",
      "text/plain": [
       "<Figure size 432x288 with 1 Axes>"
      ]
     },
     "metadata": {},
     "output_type": "display_data"
    },
    {
     "data": {
      "image/png": "[encoded data removed]",
      "text/plain": [
       "<Figure size 432x288 with 1 Axes>"
      ]
     },
     "metadata": {},
     "output_type": "display_data"
    },
    {
     "data": {
      "image/png": "[encoded data removed]",
      "text/plain": [
       "<Figure size 432x288 with 1 Axes>"
      ]
     },
     "metadata": {},
     "output_type": "display_data"
    },
    {
     "data": {
      "image/png": "[encoded data removed]",
      "text/plain": [
       "<Figure size 432x288 with 1 Axes>"
      ]
     },
     "metadata": {},
     "output_type": "display_data"
    },
    {
     "data": {
      "image/png": "[encoded data removed]",
      "text/plain": [
       "<Figure size 432x288 with 1 Axes>"
      ]
     },
     "metadata": {},
     "output_type": "display_data"
    }
   ],
   "source": [
    "#Graphing Pistol Quality\n",
    "x = [pistol_battlescarred_model.coef_[0,0], pistol_wellworn_model.coef_[0,0], pistol_fieldtested_model.coef_[0,0], pistol_minimalwear_model.coef_[0,0], pistol_factorynew_model.coef_[0,0]]\n",
    "y = [\"1\", \"2\", \"3\", \"4\", \"5\"]\n",
    "plt.bar(y, x, width = 1, color= ['red', 'orange', 'yellow', 'pink', 'purple'], edgecolor = \"black\")\n",
    "plt.title(\"Pistol Quality and Price\")\n",
    "plt.xlabel(\"Quality (Worst - Best)\")\n",
    "plt.ylabel(\"Regression Slope Value\")\n",
    "plt.show()\n",
    "\n",
    "#Graphing Rifle Quality\n",
    "x = [rifle_battlescarred_model.coef_[0,0], rifle_wellworn_model.coef_[0,0], rifle_fieldtested_model.coef_[0,0], rifle_minimalwear_model.coef_[0,0], rifle_factorynew_model.coef_[0,0]]\n",
    "y = [\"1\", \"2\", \"3\", \"4\", \"5\"]\n",
    "plt.bar(y, x, width = 1, color= ['red', 'orange', 'yellow', 'pink', 'purple'], edgecolor = \"black\")\n",
    "plt.title(\"Rifle Quality and Price\")\n",
    "plt.xlabel(\"Quality (Worst - Best)\")\n",
    "plt.ylabel(\"Regression Slope Value\")\n",
    "plt.show()\n",
    "\n",
    "#Graphing SMG Quality\n",
    "x = [smg_battlescarred_model.coef_[0,0], smg_wellworn_model.coef_[0,0], smg_fieldtested_model.coef_[0,0], smg_minimalwear_model.coef_[0,0], smg_factorynew_model.coef_[0,0]]\n",
    "y = [\"1\", \"2\", \"3\", \"4\", \"5\"]\n",
    "plt.bar(y, x, width = 1, color= ['red', 'orange', 'yellow', 'pink', 'purple'], edgecolor = \"black\")\n",
    "plt.title(\"SMG Quality and Price\")\n",
    "plt.xlabel(\"Quality (Worst - Best)\")\n",
    "plt.ylabel(\"Regression Slope Value\")\n",
    "plt.show()\n",
    "\n",
    "#Graphing Heavy Quality\n",
    "x = [heavy_battlescarred_model.coef_[0,0], heavy_wellworn_model.coef_[0,0], heavy_fieldtested_model.coef_[0,0], heavy_minimalwear_model.coef_[0,0], heavy_factorynew_model.coef_[0,0]]\n",
    "y = [\"1\", \"2\", \"3\", \"4\", \"5\"]\n",
    "plt.bar(y, x, width = 1, color= ['red', 'orange', 'yellow', 'pink', 'purple'], edgecolor = \"black\")\n",
    "plt.title(\"Heavy Quality and Price\")\n",
    "plt.xlabel(\"Quality (Worst - Best)\")\n",
    "plt.ylabel(\"Regression Slope Value\")\n",
    "plt.show()\n",
    "\n",
    "#Graphing Knife Quality\n",
    "x = [knife_battlescarred_model.coef_[0,0], knife_wellworn_model.coef_[0,0], knife_fieldtested_model.coef_[0,0], knife_minimalwear_model.coef_[0,0], knife_factorynew_model.coef_[0,0]]\n",
    "y = [\"1\", \"2\", \"3\", \"4\", \"5\"]\n",
    "plt.bar(y, x, width = 1, color= ['red', 'orange', 'yellow', 'pink', 'purple'], edgecolor = \"black\")\n",
    "plt.title(\"Knife Quality and Price\")\n",
    "plt.xlabel(\"Quality (Worst - Best)\")\n",
    "plt.ylabel(\"Regression Slope Value\")\n",
    "plt.show()"
   ]
  },
  {
   "cell_type": "markdown",
   "metadata": {},
   "source": [
    "**Section 2: Rarity**"
   ]
  },
  {
   "cell_type": "code",
   "execution_count": 116,
   "metadata": {},
   "outputs": [
    {
     "name": "stdout",
     "output_type": "stream",
     "text": [
      "Rarity Slope Value: 59.61701155922033\n"
     ]
    }
   ],
   "source": [
    "rarity_model = LinearRegression().fit( weapons[['rarity']], weapons[['price']])\n",
    "print(\"Rarity Slope Value:\", rarity_model.coef_[0,0])"
   ]
  },
  {
   "cell_type": "code",
   "execution_count": 241,
   "metadata": {},
   "outputs": [
    {
     "name": "stdout",
     "output_type": "stream",
     "text": [
      "Rarity (Without Knife) Slope Value: 16.892607337247263\n"
     ]
    }
   ],
   "source": [
    "#Want to see without knives because they only have one rarity...will skew data\n",
    "\n",
    "rarity_except_knife = weapons[weapons.category != 'knife']\n",
    "rarity_except_knife_model = LinearRegression().fit( rarity_except_knife[['rarity']], rarity_except_knife[['price']])\n",
    "print(\"Rarity (Without Knife) Slope Value:\", rarity_except_knife_model.coef_[0,0])"
   ]
  },
  {
   "cell_type": "code",
   "execution_count": 120,
   "metadata": {},
   "outputs": [],
   "source": [
    "pistol_and_rarity = weapons[weapons.category == 'pistol']\n",
    "rifle_and_rarity = weapons[weapons.category == 'rifle']\n",
    "smg_and_rarity = weapons[weapons.category == 'smg']\n",
    "heavy_and_rarity = weapons[weapons.category == 'heavy']\n",
    "knife_and_rarity = weapons[weapons.category == 'knife']"
   ]
  },
  {
   "cell_type": "code",
   "execution_count": 121,
   "metadata": {},
   "outputs": [
    {
     "name": "stdout",
     "output_type": "stream",
     "text": [
      "Pistol Rarity Slope Value: 9.91060658763399\n",
      "Rifle Rarity Slope Value: 25.920083935003607\n",
      "SMG Rarity Slope Value: 5.448879084013615\n",
      "Heavy Rarity Slope Value: 5.491451141265535\n",
      "Knife Rarity Slope Value: 0.0\n"
     ]
    }
   ],
   "source": [
    "pistol_rarity_model = LinearRegression().fit( pistol_and_rarity[['rarity']], pistol_and_rarity[['price']])\n",
    "print(\"Pistol Rarity Slope Value:\", pistol_rarity_model.coef_[0,0])\n",
    "\n",
    "rifle_rarity_model = LinearRegression().fit( rifle_and_rarity[['rarity']], rifle_and_rarity[['price']])\n",
    "print(\"Rifle Rarity Slope Value:\", rifle_rarity_model.coef_[0,0])\n",
    "\n",
    "smg_rarity_model = LinearRegression().fit( smg_and_rarity[['rarity']], smg_and_rarity[['price']])\n",
    "print(\"SMG Rarity Slope Value:\", smg_rarity_model.coef_[0,0])\n",
    "\n",
    "heavy_rarity_model = LinearRegression().fit( heavy_and_rarity[['rarity']], heavy_and_rarity[['price']])\n",
    "print(\"Heavy Rarity Slope Value:\", heavy_rarity_model.coef_[0,0])\n",
    "\n",
    "knife_rarity_model = LinearRegression().fit( knife_and_rarity[['rarity']], knife_and_rarity[['price']])\n",
    "print(\"Knife Rarity Slope Value:\", knife_rarity_model.coef_[0,0])"
   ]
  },
  {
   "cell_type": "code",
   "execution_count": 127,
   "metadata": {},
   "outputs": [],
   "source": [
    "pistol_rarity_dummies = pd.get_dummies(pistol_and_rarity['rarity'])\n",
    "rifle_rarity_dummies = pd.get_dummies(rifle_and_rarity['rarity'])\n",
    "smg_rarity_dummies = pd.get_dummies(smg_and_rarity['rarity'])\n",
    "heavy_rarity_dummies = pd.get_dummies(heavy_and_rarity['rarity'])\n",
    "knife_rarity_dummies = pd.get_dummies(knife_and_rarity['rarity'])\n",
    "#pistol_rarity_dummies.head()"
   ]
  },
  {
   "cell_type": "code",
   "execution_count": 128,
   "metadata": {},
   "outputs": [
    {
     "name": "stdout",
     "output_type": "stream",
     "text": [
      "Consumer Grade Pistol Slope: -16.104309568988864\n",
      "Industrial Grade Pistol Slope: -10.186423248779194\n",
      "Mil-Spec Pistol Slope: -15.999528425020843\n",
      "Restricted Pistol Slope: 14.738188274823315\n",
      "Classified Pistol Slope: 4.707969305791147\n",
      "Covert Pistol Slope: 51.44941020814084\n"
     ]
    }
   ],
   "source": [
    "#For Rarities Within Pistols\n",
    "\n",
    "pistol_consumergrade_model = LinearRegression().fit( pistol_rarity_dummies[[1]], pistol_and_rarity[['price']])\n",
    "print(\"Consumer Grade Pistol Slope:\", pistol_consumergrade_model.coef_[0,0])\n",
    "\n",
    "pistol_industrialgrade_model = LinearRegression().fit( pistol_rarity_dummies[[2]], pistol_and_rarity[['price']])\n",
    "print(\"Industrial Grade Pistol Slope:\", pistol_industrialgrade_model.coef_[0,0])\n",
    "\n",
    "pistol_milspec_model = LinearRegression().fit( pistol_rarity_dummies[[3]], pistol_and_rarity[['price']])\n",
    "print(\"Mil-Spec Pistol Slope:\", pistol_milspec_model.coef_[0,0])\n",
    "\n",
    "pistol_restricted_model = LinearRegression().fit( pistol_rarity_dummies[[4]], pistol_and_rarity[['price']])\n",
    "print(\"Restricted Pistol Slope:\", pistol_restricted_model.coef_[0,0])\n",
    "\n",
    "pistol_classified_model = LinearRegression().fit( pistol_rarity_dummies[[5]], pistol_and_rarity[['price']])\n",
    "print(\"Classified Pistol Slope:\", pistol_classified_model.coef_[0,0])\n",
    "\n",
    "pistol_covert_model = LinearRegression().fit( pistol_rarity_dummies[[6]], pistol_and_rarity[['price']])\n",
    "print(\"Covert Pistol Slope:\", pistol_covert_model.coef_[0,0])"
   ]
  },
  {
   "cell_type": "code",
   "execution_count": 130,
   "metadata": {},
   "outputs": [
    {
     "name": "stdout",
     "output_type": "stream",
     "text": [
      "Consumer Grade Rifle Slope: -33.190691604201504\n",
      "Industrial Grade Rifle Slope: -37.775958404312036\n",
      "Mil-Spec Rifle Slope: -47.297982740782444\n",
      "Restricted Rifle Slope: -27.423270280292257\n",
      "Classified Rifle Slope: 19.996883852036685\n",
      "Covert Rifle Slope: 120.9052405503136\n"
     ]
    }
   ],
   "source": [
    "#For Rarities Within Rifles\n",
    "\n",
    "rifle_consumergrade_model = LinearRegression().fit( rifle_rarity_dummies[[1]], rifle_and_rarity[['price']])\n",
    "print(\"Consumer Grade Rifle Slope:\", rifle_consumergrade_model.coef_[0,0])\n",
    "\n",
    "rifle_industrialgrade_model = LinearRegression().fit( rifle_rarity_dummies[[2]], rifle_and_rarity[['price']])\n",
    "print(\"Industrial Grade Rifle Slope:\", rifle_industrialgrade_model.coef_[0,0])\n",
    "\n",
    "rifle_milspec_model = LinearRegression().fit( rifle_rarity_dummies[[3]], rifle_and_rarity[['price']])\n",
    "print(\"Mil-Spec Rifle Slope:\", rifle_milspec_model.coef_[0,0])\n",
    "\n",
    "rifle_restricted_model = LinearRegression().fit( rifle_rarity_dummies[[4]], rifle_and_rarity[['price']])\n",
    "print(\"Restricted Rifle Slope:\", rifle_restricted_model.coef_[0,0])\n",
    "\n",
    "rifle_classified_model = LinearRegression().fit( rifle_rarity_dummies[[5]], rifle_and_rarity[['price']])\n",
    "print(\"Classified Rifle Slope:\", rifle_classified_model.coef_[0,0])\n",
    "\n",
    "rifle_covert_model = LinearRegression().fit( rifle_rarity_dummies[[6]], rifle_and_rarity[['price']])\n",
    "print(\"Covert Rifle Slope:\", rifle_covert_model.coef_[0,0])"
   ]
  },
  {
   "cell_type": "code",
   "execution_count": 131,
   "metadata": {},
   "outputs": [
    {
     "name": "stdout",
     "output_type": "stream",
     "text": [
      "Consumer Grade SMG Slope: -7.90090155189455\n",
      "Industrial Grade SMG Slope: -3.7936801618611993\n",
      "Mil-Spec SMG Slope: -5.631522164197223\n",
      "Restricted SMG Slope: -1.3643633856176183\n",
      "Classified SMG Slope: 26.72062995997711\n",
      "Covert SMG Slope: 24.35829756364638\n"
     ]
    }
   ],
   "source": [
    "#For Rarities Within SMGs\n",
    "\n",
    "smg_consumergrade_model = LinearRegression().fit( smg_rarity_dummies[[1]], smg_and_rarity[['price']])\n",
    "print(\"Consumer Grade SMG Slope:\", smg_consumergrade_model.coef_[0,0])\n",
    "\n",
    "smg_industrialgrade_model = LinearRegression().fit( smg_rarity_dummies[[2]], smg_and_rarity[['price']])\n",
    "print(\"Industrial Grade SMG Slope:\", smg_industrialgrade_model.coef_[0,0])\n",
    "\n",
    "smg_milspec_model = LinearRegression().fit( smg_rarity_dummies[[3]], smg_and_rarity[['price']])\n",
    "print(\"Mil-Spec SMG Slope:\", smg_milspec_model.coef_[0,0])\n",
    "\n",
    "smg_restricted_model = LinearRegression().fit( smg_rarity_dummies[[4]], smg_and_rarity[['price']])\n",
    "print(\"Restricted SMG Slope:\", smg_restricted_model.coef_[0,0])\n",
    "\n",
    "smg_classified_model = LinearRegression().fit( smg_rarity_dummies[[5]], smg_and_rarity[['price']])\n",
    "print(\"Classified SMG Slope:\", smg_classified_model.coef_[0,0])\n",
    "\n",
    "smg_covert_model = LinearRegression().fit( smg_rarity_dummies[[6]], smg_and_rarity[['price']])\n",
    "print(\"Covert SMG Slope:\", smg_covert_model.coef_[0,0])"
   ]
  },
  {
   "cell_type": "code",
   "execution_count": 132,
   "metadata": {},
   "outputs": [
    {
     "name": "stdout",
     "output_type": "stream",
     "text": [
      "Consumer Grade Heavy Slope: -10.014470552642182\n",
      "Industrial Grade Heavy Slope: 3.5619632714880702\n",
      "Mil-Spec Heavy Slope: -4.696914837673004\n",
      "Restricted Heavy Slope: -5.635524954197698\n",
      "Classified Heavy Slope: 44.437830490405126\n",
      "Covert Heavy Slope: 8.796285846438487\n"
     ]
    }
   ],
   "source": [
    "#For Rarities Within Heavys\n",
    "\n",
    "heavy_consumergrade_model = LinearRegression().fit( heavy_rarity_dummies[[1]], heavy_and_rarity[['price']])\n",
    "print(\"Consumer Grade Heavy Slope:\", heavy_consumergrade_model.coef_[0,0])\n",
    "\n",
    "heavy_industrialgrade_model = LinearRegression().fit( heavy_rarity_dummies[[2]], heavy_and_rarity[['price']])\n",
    "print(\"Industrial Grade Heavy Slope:\", heavy_industrialgrade_model.coef_[0,0])\n",
    "\n",
    "heavy_milspec_model = LinearRegression().fit( heavy_rarity_dummies[[3]], heavy_and_rarity[['price']])\n",
    "print(\"Mil-Spec Heavy Slope:\", heavy_milspec_model.coef_[0,0])\n",
    "\n",
    "heavy_restricted_model = LinearRegression().fit( heavy_rarity_dummies[[4]], heavy_and_rarity[['price']])\n",
    "print(\"Restricted Heavy Slope:\", heavy_restricted_model.coef_[0,0])\n",
    "\n",
    "heavy_classified_model = LinearRegression().fit( heavy_rarity_dummies[[5]], heavy_and_rarity[['price']])\n",
    "print(\"Classified Heavy Slope:\", heavy_classified_model.coef_[0,0])\n",
    "\n",
    "heavy_covert_model = LinearRegression().fit( heavy_rarity_dummies[[6]], heavy_and_rarity[['price']])\n",
    "print(\"Covert Heavy Slope:\", heavy_covert_model.coef_[0,0])"
   ]
  },
  {
   "cell_type": "code",
   "execution_count": 129,
   "metadata": {},
   "outputs": [
    {
     "name": "stdout",
     "output_type": "stream",
     "text": [
      "Covert Knife Slope: 0.0\n"
     ]
    }
   ],
   "source": [
    "#For Rarities Within Knives\n",
    "\n",
    "knife_covert_model = LinearRegression().fit( knife_rarity_dummies[[6]], knife_and_rarity[['price']])\n",
    "print(\"Covert Knife Slope:\", knife_covert_model.coef_[0,0])"
   ]
  },
  {
   "cell_type": "code",
   "execution_count": 136,
   "metadata": {},
   "outputs": [
    {
     "data": {
      "image/png": "[encoded data removed]",
      "text/plain": [
       "<Figure size 432x288 with 1 Axes>"
      ]
     },
     "metadata": {},
     "output_type": "display_data"
    },
    {
     "data": {
      "image/png": "[encoded data removed]",
      "text/plain": [
       "<Figure size 432x288 with 1 Axes>"
      ]
     },
     "metadata": {},
     "output_type": "display_data"
    },
    {
     "data": {
      "image/png": "[encoded data removed]",
      "text/plain": [
       "<Figure size 432x288 with 1 Axes>"
      ]
     },
     "metadata": {},
     "output_type": "display_data"
    },
    {
     "data": {
      "image/png": "[encoded data removed]",
      "text/plain": [
       "<Figure size 432x288 with 1 Axes>"
      ]
     },
     "metadata": {},
     "output_type": "display_data"
    }
   ],
   "source": [
    "#Graphing Pistol Rarity\n",
    "x = [pistol_consumergrade_model.coef_[0,0], pistol_industrialgrade_model.coef_[0,0], pistol_milspec_model.coef_[0,0], pistol_restricted_model.coef_[0,0], pistol_classified_model.coef_[0,0], pistol_covert_model.coef_[0,0]]\n",
    "y = [\"1\", \"2\", \"3\", \"4\", \"5\", \"6\"]\n",
    "plt.bar(y, x, width = 1, color= ['red', 'orange', 'yellow', 'pink', 'magenta', 'purple'], edgecolor = \"black\")\n",
    "plt.title(\"Pistol Rarity and Price\")\n",
    "plt.xlabel(\"Rarity (Least - Most)\")\n",
    "plt.ylabel(\"Regression Slope Value\")\n",
    "plt.show()\n",
    "\n",
    "#Graphing Rifle Rarity\n",
    "x = [rifle_consumergrade_model.coef_[0,0], rifle_industrialgrade_model.coef_[0,0], rifle_milspec_model.coef_[0,0], rifle_restricted_model.coef_[0,0], rifle_classified_model.coef_[0,0], rifle_covert_model.coef_[0,0]]\n",
    "y = [\"1\", \"2\", \"3\", \"4\", \"5\", \"6\"]\n",
    "plt.bar(y, x, width = 1, color= ['red', 'orange', 'yellow', 'pink', 'magenta', 'purple'], edgecolor = \"black\")\n",
    "plt.title(\"Rifle Rarity and Price\")\n",
    "plt.xlabel(\"Rarity (Least - Most)\")\n",
    "plt.ylabel(\"Regression Slope Value\")\n",
    "plt.show()\n",
    "\n",
    "#Graphing SMG Rarity\n",
    "x = [smg_consumergrade_model.coef_[0,0], smg_industrialgrade_model.coef_[0,0], smg_milspec_model.coef_[0,0], smg_restricted_model.coef_[0,0], smg_classified_model.coef_[0,0], smg_covert_model.coef_[0,0]]\n",
    "y = [\"1\", \"2\", \"3\", \"4\", \"5\", \"6\"]\n",
    "plt.bar(y, x, width = 1, color= ['red', 'orange', 'yellow', 'pink', 'magenta', 'purple'], edgecolor = \"black\")\n",
    "plt.title(\"SMG Rarity and Price\")\n",
    "plt.xlabel(\"Rarity (Least - Most)\")\n",
    "plt.ylabel(\"Regression Slope Value\")\n",
    "plt.show()\n",
    "\n",
    "#Graphing Heavy Rarity\n",
    "x = [heavy_consumergrade_model.coef_[0,0], heavy_industrialgrade_model.coef_[0,0], heavy_milspec_model.coef_[0,0], heavy_restricted_model.coef_[0,0], heavy_classified_model.coef_[0,0], heavy_covert_model.coef_[0,0]]\n",
    "y = [\"1\", \"2\", \"3\", \"4\", \"5\", \"6\"]\n",
    "plt.bar(y, x, width = 1, color= ['red', 'orange', 'yellow', 'pink', 'magenta', 'purple'], edgecolor = \"black\")\n",
    "plt.title(\"Heavy Rarity and Price\")\n",
    "plt.xlabel(\"Rarity (Least - Most)\")\n",
    "plt.ylabel(\"Regression Slope Value\")\n",
    "plt.show()\n",
    "\n",
    "#Graphing Knife Rarity\n",
    "\n",
    "#Nothing to graph - only covert weapons"
   ]
  },
  {
   "cell_type": "markdown",
   "metadata": {},
   "source": [
    "**Section 3: Stattrak**"
   ]
  },
  {
   "cell_type": "code",
   "execution_count": 138,
   "metadata": {},
   "outputs": [
    {
     "name": "stdout",
     "output_type": "stream",
     "text": [
      "Stattrak Slope Value: 30.659408198520538\n"
     ]
    }
   ],
   "source": [
    "stattrak_model = LinearRegression().fit( weapons[['stattrak']], weapons[['price']])\n",
    "print(\"Stattrak Slope Value:\", stattrak_model.coef_[0,0])"
   ]
  },
  {
   "cell_type": "code",
   "execution_count": 140,
   "metadata": {},
   "outputs": [],
   "source": [
    "pistol_and_stattrak = weapons[weapons.category == 'pistol']\n",
    "rifle_and_stattrak = weapons[weapons.category == 'rifle']\n",
    "smg_and_stattrak = weapons[weapons.category == 'smg']\n",
    "heavy_and_stattrak = weapons[weapons.category == 'heavy']\n",
    "knife_and_stattrak = weapons[weapons.category == 'knife']"
   ]
  },
  {
   "cell_type": "code",
   "execution_count": 141,
   "metadata": {},
   "outputs": [
    {
     "name": "stdout",
     "output_type": "stream",
     "text": [
      "Pistol Stattrak Slope Value: 18.276192740264214\n",
      "Rifle Stattrak Slope Value: 22.34925338347581\n",
      "SMG Stattrak Slope Value: 3.6361757169587925\n",
      "Heavy Stattrak Slope Value: 0.06556668734491114\n",
      "Knife Stattrak Slope Value: 60.14449408666937\n"
     ]
    }
   ],
   "source": [
    "pistol_stattrak_model = LinearRegression().fit( pistol_and_stattrak[['stattrak']], pistol_and_stattrak[['price']])\n",
    "print(\"Pistol Stattrak Slope Value:\", pistol_stattrak_model.coef_[0,0])\n",
    "\n",
    "rifle_stattrak_model = LinearRegression().fit( rifle_and_stattrak[['stattrak']], rifle_and_stattrak[['price']])\n",
    "print(\"Rifle Stattrak Slope Value:\", rifle_stattrak_model.coef_[0,0])\n",
    "\n",
    "smg_stattrak_model = LinearRegression().fit( smg_and_stattrak[['stattrak']], smg_and_stattrak[['price']])\n",
    "print(\"SMG Stattrak Slope Value:\", smg_stattrak_model.coef_[0,0])\n",
    "\n",
    "heavy_stattrak_model = LinearRegression().fit( heavy_and_stattrak[['stattrak']], heavy_and_stattrak[['price']])\n",
    "print(\"Heavy Stattrak Slope Value:\", heavy_stattrak_model.coef_[0,0])\n",
    "\n",
    "knife_stattrak_model = LinearRegression().fit( knife_and_stattrak[['stattrak']], knife_and_stattrak[['price']])\n",
    "print(\"Knife Stattrak Slope Value:\", knife_stattrak_model.coef_[0,0])"
   ]
  },
  {
   "cell_type": "code",
   "execution_count": 149,
   "metadata": {},
   "outputs": [],
   "source": [
    "pistol_stattrak_dummies = pd.get_dummies(pistol_and_stattrak['stattrak'])\n",
    "rifle_stattrak_dummies = pd.get_dummies(rifle_and_stattrak['stattrak'])\n",
    "smg_stattrak_dummies = pd.get_dummies(smg_and_stattrak['stattrak'])\n",
    "heavy_stattrak_dummies = pd.get_dummies(heavy_and_stattrak['stattrak'])\n",
    "knife_stattrak_dummies = pd.get_dummies(knife_and_stattrak['stattrak'])\n",
    "#pistol_stattrak_dummies.head()"
   ]
  },
  {
   "cell_type": "code",
   "execution_count": 150,
   "metadata": {},
   "outputs": [
    {
     "name": "stdout",
     "output_type": "stream",
     "text": [
      "Standard Pistol Slope: -18.276192740264214\n",
      "Stattrak Pistol Slope: 18.276192740264214\n"
     ]
    }
   ],
   "source": [
    "#For Stattrak Within Pistols\n",
    "\n",
    "pistol_standard_model = LinearRegression().fit( pistol_stattrak_dummies[[0]], pistol_and_stattrak[['price']])\n",
    "print(\"Standard Pistol Slope:\", pistol_standard_model.coef_[0,0])\n",
    "\n",
    "pistol_stattrak_model = LinearRegression().fit( pistol_stattrak_dummies[[1]], pistol_and_stattrak[['price']])\n",
    "print(\"Stattrak Pistol Slope:\", pistol_stattrak_model.coef_[0,0])"
   ]
  },
  {
   "cell_type": "code",
   "execution_count": 153,
   "metadata": {},
   "outputs": [
    {
     "name": "stdout",
     "output_type": "stream",
     "text": [
      "Standard Rifle Slope: -22.349253383475812\n",
      "Stattrak Rifle Slope: 22.34925338347581\n"
     ]
    }
   ],
   "source": [
    "#For Stattrak Within Rifles\n",
    "\n",
    "rifle_standard_model = LinearRegression().fit( rifle_stattrak_dummies[[0]], rifle_and_stattrak[['price']])\n",
    "print(\"Standard Rifle Slope:\", rifle_standard_model.coef_[0,0])\n",
    "\n",
    "rifle_stattrak_model = LinearRegression().fit( rifle_stattrak_dummies[[1]], rifle_and_stattrak[['price']])\n",
    "print(\"Stattrak Rifle Slope:\", rifle_stattrak_model.coef_[0,0])"
   ]
  },
  {
   "cell_type": "code",
   "execution_count": 156,
   "metadata": {},
   "outputs": [
    {
     "name": "stdout",
     "output_type": "stream",
     "text": [
      "Standard SMG Slope: -3.6361757169587925\n",
      "Stattrak SMG Slope: 3.6361757169587925\n"
     ]
    }
   ],
   "source": [
    "#For Stattrak Within SMGs\n",
    "\n",
    "smg_standard_model = LinearRegression().fit( smg_stattrak_dummies[[0]], smg_and_stattrak[['price']])\n",
    "print(\"Standard SMG Slope:\", smg_standard_model.coef_[0,0])\n",
    "\n",
    "smg_stattrak_model = LinearRegression().fit( smg_stattrak_dummies[[1]], smg_and_stattrak[['price']])\n",
    "print(\"Stattrak SMG Slope:\", smg_stattrak_model.coef_[0,0])"
   ]
  },
  {
   "cell_type": "code",
   "execution_count": 157,
   "metadata": {},
   "outputs": [
    {
     "name": "stdout",
     "output_type": "stream",
     "text": [
      "Standard Heavy Slope: -0.06556668734491114\n",
      "Stattrak Heavy Slope: 0.06556668734491114\n"
     ]
    }
   ],
   "source": [
    "#For Stattrak Within Heavys\n",
    "\n",
    "heavy_standard_model = LinearRegression().fit( heavy_stattrak_dummies[[0]], heavy_and_stattrak[['price']])\n",
    "print(\"Standard Heavy Slope:\", heavy_standard_model.coef_[0,0])\n",
    "\n",
    "heavy_stattrak_model = LinearRegression().fit( heavy_stattrak_dummies[[1]], heavy_and_stattrak[['price']])\n",
    "print(\"Stattrak Heavy Slope:\", heavy_stattrak_model.coef_[0,0])"
   ]
  },
  {
   "cell_type": "code",
   "execution_count": 158,
   "metadata": {},
   "outputs": [
    {
     "name": "stdout",
     "output_type": "stream",
     "text": [
      "Standard Knife Slope: -60.14449408666938\n",
      "Stattrak Knife Slope: 60.14449408666937\n"
     ]
    }
   ],
   "source": [
    "#For Stattrak Within Knives\n",
    "\n",
    "knife_standard_model = LinearRegression().fit( knife_stattrak_dummies[[0]], knife_and_stattrak[['price']])\n",
    "print(\"Standard Knife Slope:\", knife_standard_model.coef_[0,0])\n",
    "\n",
    "knife_stattrak_model = LinearRegression().fit( knife_stattrak_dummies[[1]], knife_and_stattrak[['price']])\n",
    "print(\"Stattrak Knife Slope:\", knife_stattrak_model.coef_[0,0])"
   ]
  },
  {
   "cell_type": "code",
   "execution_count": 159,
   "metadata": {},
   "outputs": [
    {
     "data": {
      "image/png": "[encoded data removed]",
      "text/plain": [
       "<Figure size 432x288 with 1 Axes>"
      ]
     },
     "metadata": {},
     "output_type": "display_data"
    }
   ],
   "source": [
    "#Graphing Stattrak Across Weapon Categories\n",
    "x = [pistol_stattrak_model.coef_[0,0], rifle_stattrak_model.coef_[0,0], smg_stattrak_model.coef_[0,0], heavy_stattrak_model.coef_[0,0], knife_stattrak_model.coef_[0,0]]\n",
    "y = [\"Pistol\", \"Rifle\", \"SMG\", \"Heavy\", \"Knife\"]\n",
    "plt.bar(y, x, width = 1, color= ['red', 'orange', 'yellow', 'pink', 'purple'], edgecolor = \"black\")\n",
    "plt.title(\"Weapon Stattrak and Price\")\n",
    "plt.xlabel(\"Weapons\")\n",
    "plt.ylabel(\"Regression Slope Value (Stattrak)\")\n",
    "plt.show()"
   ]
  },
  {
   "cell_type": "markdown",
   "metadata": {},
   "source": [
    "**Section 4: Quantity**"
   ]
  },
  {
   "cell_type": "code",
   "execution_count": 164,
   "metadata": {},
   "outputs": [
    {
     "name": "stdout",
     "output_type": "stream",
     "text": [
      "Quantity Slope Value: -0.009384629820576619\n"
     ]
    }
   ],
   "source": [
    "quantity_model = LinearRegression().fit( weapons[['quantity']], weapons[['price']])\n",
    "print(\"Quantity Slope Value:\", quantity_model.coef_[0,0])"
   ]
  },
  {
   "cell_type": "code",
   "execution_count": 165,
   "metadata": {},
   "outputs": [],
   "source": [
    "pistol_and_quantity = weapons[weapons.category == 'pistol']\n",
    "rifle_and_quantity = weapons[weapons.category == 'rifle']\n",
    "smg_and_quantity = weapons[weapons.category == 'smg']\n",
    "heavy_and_quantity = weapons[weapons.category == 'heavy']\n",
    "knife_and_quantity = weapons[weapons.category == 'knife']"
   ]
  },
  {
   "cell_type": "code",
   "execution_count": 166,
   "metadata": {},
   "outputs": [
    {
     "name": "stdout",
     "output_type": "stream",
     "text": [
      "Pistol Quality Slope Value: -0.0017890859643625871\n",
      "Rifle Quality Slope Value: -0.0036909226599171224\n",
      "SMG Quality Slope Value: -0.0007548929442820771\n",
      "Heavy Quality Slope Value: -0.0010600710999886405\n",
      "Knife Quality Slope Value: -4.839081702799696\n"
     ]
    }
   ],
   "source": [
    "pistol_quantity_model = LinearRegression().fit( pistol_and_quantity[['quantity']], pistol_and_quantity[['price']])\n",
    "print(\"Pistol Quality Slope Value:\", pistol_quantity_model.coef_[0,0])\n",
    "\n",
    "rifle_quantity_model = LinearRegression().fit( rifle_and_quantity[['quantity']], rifle_and_quantity[['price']])\n",
    "print(\"Rifle Quality Slope Value:\", rifle_quantity_model.coef_[0,0])\n",
    "\n",
    "smg_quantity_model = LinearRegression().fit( smg_and_quantity[['quantity']], smg_and_quantity[['price']])\n",
    "print(\"SMG Quality Slope Value:\", smg_quantity_model.coef_[0,0])\n",
    "\n",
    "heavy_quantity_model = LinearRegression().fit( heavy_and_quantity[['quantity']], heavy_and_quantity[['price']])\n",
    "print(\"Heavy Quality Slope Value:\", heavy_quantity_model.coef_[0,0])\n",
    "\n",
    "knife_quantity_model = LinearRegression().fit( knife_and_quantity[['quantity']], knife_and_quantity[['price']])\n",
    "print(\"Knife Quality Slope Value:\", knife_quantity_model.coef_[0,0])"
   ]
  },
  {
   "cell_type": "code",
   "execution_count": 186,
   "metadata": {},
   "outputs": [
    {
     "data": {
      "image/png": "[encoded data removed]",
      "text/plain": [
       "<Figure size 432x288 with 1 Axes>"
      ]
     },
     "metadata": {},
     "output_type": "display_data"
    },
    {
     "data": {
      "image/png": "[encoded data removed]",
      "text/plain": [
       "<Figure size 432x288 with 1 Axes>"
      ]
     },
     "metadata": {},
     "output_type": "display_data"
    }
   ],
   "source": [
    "#Graphing Pistol and Quantity\n",
    "\n",
    "plt.scatter(pistol_and_quantity['quantity'], pistol_and_quantity['price'])\n",
    "plt.title(\"Pistol Quantity and Price\")\n",
    "plt.xlabel('Quantity')\n",
    "plt.ylabel('Price')\n",
    "plt.show()\n",
    "\n",
    "plt.scatter(pistol_and_quantity['quantity'], pistol_and_quantity['price'])\n",
    "plt.title(\"ZOOMED Pistol Quantity and Price\")\n",
    "plt.xlim(0.0,250)\n",
    "plt.xlabel('Quantity')\n",
    "plt.ylim(0.0,250)\n",
    "plt.ylabel('Price')\n",
    "plt.show()"
   ]
  },
  {
   "cell_type": "markdown",
   "metadata": {},
   "source": [
    "Essentially, graphs show high prices all at 0... but so many weapons at 0 with low prices that the variable doesn't have a strong correlation with price. That being said, weapons with a high price seem to all be at close to zero, so amount does play a factor in the sense that in order for a weapon to be high in price, it usually should be low in quantity. However low in quantity does not mean you will have a high price. "
   ]
  },
  {
   "cell_type": "markdown",
   "metadata": {},
   "source": [
    "**Section 5: Weapon Category**  "
   ]
  },
  {
   "cell_type": "markdown",
   "metadata": {},
   "source": [
    "See Carter's on GitHub"
   ]
  },
  {
   "cell_type": "markdown",
   "metadata": {},
   "source": [
    "**(EXTRA) Section 6: Categories and Price by Weapon Type**"
   ]
  },
  {
   "cell_type": "code",
   "execution_count": 232,
   "metadata": {},
   "outputs": [
    {
     "name": "stdout",
     "output_type": "stream",
     "text": [
      "Pistols Quality Slope: 7.258428676920982\n",
      "Pistols Rarity Slope: 9.91060658763399\n",
      "Pistols Stattrak Slope: 18.276192740264214\n",
      "Pistols Quantity Slope: -0.0017890859643625871\n"
     ]
    },
    {
     "data": {
      "image/png": "[encoded data removed]",
      "text/plain": [
       "<Figure size 432x288 with 1 Axes>"
      ]
     },
     "metadata": {},
     "output_type": "display_data"
    }
   ],
   "source": [
    "#Pistols\n",
    "\n",
    "print(\"Pistols Quality Slope:\", pistol_quality_model.coef_[0,0])\n",
    "print(\"Pistols Rarity Slope:\", pistol_rarity_model.coef_[0,0])\n",
    "print(\"Pistols Stattrak Slope:\", pistol_stattrak_model.coef_[0,0])\n",
    "print(\"Pistols Quantity Slope:\", pistol_quantity_model.coef_[0,0])\n",
    "\n",
    "x = [np.abs(pistol_quantity_model.coef_[0,0]), pistol_quality_model.coef_[0,0], pistol_rarity_model.coef_[0,0], pistol_stattrak_model.coef_[0,0]]\n",
    "y = [\"Quantity\", \"Quality\",\"Rarity\", \"Stattrak\"]\n",
    "plt.bar(y, x, width = 1, color= ['yellow', 'green', 'cyan', 'blue'], edgecolor = \"black\")\n",
    "plt.title(\"Pistols and Variables\")\n",
    "plt.xlabel(\"Variables\")\n",
    "plt.ylabel(\"Regression Slope Value\")\n",
    "plt.show()"
   ]
  },
  {
   "cell_type": "code",
   "execution_count": 233,
   "metadata": {},
   "outputs": [
    {
     "name": "stdout",
     "output_type": "stream",
     "text": [
      "Rifles Quality Slope: 13.196115805484402\n",
      "Rifles Rarity Slope: 25.920083935003607\n",
      "Rifles Stattrak Slope: 22.34925338347581\n",
      "Rifles Quantity Slope: -0.0036909226599171224\n"
     ]
    },
    {
     "data": {
      "image/png": "[encoded data removed]",
      "text/plain": [
       "<Figure size 432x288 with 1 Axes>"
      ]
     },
     "metadata": {},
     "output_type": "display_data"
    }
   ],
   "source": [
    "#Rifles\n",
    "\n",
    "print(\"Rifles Quality Slope:\", rifle_quality_model.coef_[0,0])\n",
    "print(\"Rifles Rarity Slope:\", rifle_rarity_model.coef_[0,0])\n",
    "print(\"Rifles Stattrak Slope:\", rifle_stattrak_model.coef_[0,0])\n",
    "print(\"Rifles Quantity Slope:\", rifle_quantity_model.coef_[0,0])\n",
    "\n",
    "x = [np.abs(rifle_quantity_model.coef_[0,0]), rifle_quality_model.coef_[0,0], rifle_rarity_model.coef_[0,0], rifle_stattrak_model.coef_[0,0]]\n",
    "y = [\"Quantity\", \"Quality\",\"Rarity\", \"Stattrak\"]\n",
    "plt.bar(y, x, width = 1, color= ['yellow', 'green', 'cyan', 'blue'], edgecolor = \"black\")\n",
    "plt.title(\"Rifles and Variables\")\n",
    "plt.xlabel(\"Variable\")\n",
    "plt.ylabel(\"Regression Slope Value\")\n",
    "plt.show()"
   ]
  },
  {
   "cell_type": "code",
   "execution_count": 236,
   "metadata": {},
   "outputs": [
    {
     "name": "stdout",
     "output_type": "stream",
     "text": [
      "SMGs Quality Slope: 3.371793010331965\n",
      "SMGs Rarity Slope: 5.448879084013615\n",
      "SMGs Stattrak Slope: 3.6361757169587925\n",
      "SMGs Quantity Slope: -0.0007548929442820771\n"
     ]
    },
    {
     "data": {
      "image/png": "[encoded data removed]",
      "text/plain": [
       "<Figure size 432x288 with 1 Axes>"
      ]
     },
     "metadata": {},
     "output_type": "display_data"
    }
   ],
   "source": [
    "#SMGs\n",
    "\n",
    "print(\"SMGs Quality Slope:\", smg_quality_model.coef_[0,0])\n",
    "print(\"SMGs Rarity Slope:\", smg_rarity_model.coef_[0,0])\n",
    "print(\"SMGs Stattrak Slope:\", smg_stattrak_model.coef_[0,0])\n",
    "print(\"SMGs Quantity Slope:\", smg_quantity_model.coef_[0,0])\n",
    "\n",
    "x = [np.abs(smg_quantity_model.coef_[0,0]), smg_quality_model.coef_[0,0], smg_rarity_model.coef_[0,0], smg_stattrak_model.coef_[0,0]]\n",
    "y = [\"Quantity\", \"Quality\",\"Rarity\", \"Stattrak\"]\n",
    "plt.bar(y, x, width = 1, color= ['yellow', 'green', 'cyan', 'blue'], edgecolor = \"black\")\n",
    "plt.title(\"Rifles and Variables\")\n",
    "plt.xlabel(\"Variable\")\n",
    "plt.ylabel(\"Regression Slope Value\")\n",
    "plt.show()"
   ]
  },
  {
   "cell_type": "code",
   "execution_count": 237,
   "metadata": {},
   "outputs": [
    {
     "name": "stdout",
     "output_type": "stream",
     "text": [
      "Heavys Quality Slope: 3.0392707340324137\n",
      "Heavys Rarity Slope: 5.491451141265535\n",
      "Heavys Stattrak Slope: 0.06556668734491114\n",
      "Heavys Quantity Slope: -0.0010600710999886405\n"
     ]
    },
    {
     "data": {
      "image/png": "[encoded data removed]",
      "text/plain": [
       "<Figure size 432x288 with 1 Axes>"
      ]
     },
     "metadata": {},
     "output_type": "display_data"
    }
   ],
   "source": [
    "#Heavys\n",
    "\n",
    "heavy_quality_model.coef_[0,0]\n",
    "heavy_rarity_model.coef_[0,0]\n",
    "heavy_stattrak_model.coef_[0,0]\n",
    "heavy_quantity_model.coef_[0,0]\n",
    "\n",
    "print(\"Heavys Quality Slope:\", heavy_quality_model.coef_[0,0])\n",
    "print(\"Heavys Rarity Slope:\", heavy_rarity_model.coef_[0,0])\n",
    "print(\"Heavys Stattrak Slope:\", heavy_stattrak_model.coef_[0,0])\n",
    "print(\"Heavys Quantity Slope:\", heavy_quantity_model.coef_[0,0])\n",
    "\n",
    "x = [np.abs(heavy_quantity_model.coef_[0,0]), heavy_quality_model.coef_[0,0], heavy_rarity_model.coef_[0,0], heavy_stattrak_model.coef_[0,0]]\n",
    "y = [\"Quantity\", \"Quality\",\"Rarity\", \"Stattrak\"]\n",
    "plt.bar(y, x, width = 1, color= ['yellow', 'green', 'cyan', 'blue'], edgecolor = \"black\")\n",
    "plt.title(\"Heavys and Variables\")\n",
    "plt.xlabel(\"Variable\")\n",
    "plt.ylabel(\"Regression Slope Value\")\n",
    "plt.show()"
   ]
  },
  {
   "cell_type": "code",
   "execution_count": 238,
   "metadata": {},
   "outputs": [
    {
     "name": "stdout",
     "output_type": "stream",
     "text": [
      "Knives Quality Slope: 66.3694763321295\n",
      "Knives Rarity Slope: 0.0\n",
      "Knives Stattrak Slope: 60.14449408666937\n",
      "Knives Quantity Slope: -4.839081702799696\n"
     ]
    },
    {
     "data": {
      "image/png": "[encoded data removed]",
      "text/plain": [
       "<Figure size 432x288 with 1 Axes>"
      ]
     },
     "metadata": {},
     "output_type": "display_data"
    }
   ],
   "source": [
    "#Knives\n",
    "\n",
    "knife_quality_model.coef_[0,0]\n",
    "knife_rarity_model.coef_[0,0]\n",
    "knife_stattrak_model.coef_[0,0]\n",
    "knife_quantity_model.coef_[0,0]\n",
    "\n",
    "print(\"Knives Quality Slope:\", knife_quality_model.coef_[0,0])\n",
    "print(\"Knives Rarity Slope:\", knife_rarity_model.coef_[0,0])\n",
    "print(\"Knives Stattrak Slope:\", knife_stattrak_model.coef_[0,0])\n",
    "print(\"Knives Quantity Slope:\", knife_quantity_model.coef_[0,0])\n",
    "\n",
    "x = [np.abs(knife_quantity_model.coef_[0,0]), knife_quality_model.coef_[0,0], knife_rarity_model.coef_[0,0], knife_stattrak_model.coef_[0,0]]\n",
    "y = [\"Quantity\", \"Quality\",\"Rarity\", \"Stattrak\"]\n",
    "plt.bar(y, x, width = 1, color= ['yellow', 'green', 'cyan', 'blue'], edgecolor = \"black\")\n",
    "plt.title(\"Knives and Variables\")\n",
    "plt.xlabel(\"Variable\")\n",
    "plt.ylabel(\"Regression Slope Value\")\n",
    "plt.show()"
   ]
  },
  {
   "cell_type": "code",
   "execution_count": 239,
   "metadata": {},
   "outputs": [],
   "source": [
    "#Used abs for quantity so it's seen graphically"
   ]
  },
  {
   "cell_type": "code",
   "execution_count": null,
   "metadata": {},
   "outputs": [],
   "source": []
  }
 ],
 "metadata": {
  "kernelspec": {
   "display_name": "Python 3",
   "language": "python",
   "name": "python3"
  },
  "language_info": {
   "codemirror_mode": {
    "name": "ipython",
    "version": 3
   },
   "file_extension": ".py",
   "mimetype": "text/x-python",
   "name": "python",
   "nbconvert_exporter": "python",
   "pygments_lexer": "ipython3",
   "version": "3.6.5"
  }
 },
 "nbformat": 4,
 "nbformat_minor": 2
}
