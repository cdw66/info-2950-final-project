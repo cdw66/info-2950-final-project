{
 "cells": [
  {
   "cell_type": "code",
   "execution_count": 211,
   "metadata": {},
   "outputs": [],
   "source": [
    "import pandas as pd\n",
    "import numpy as np\n",
    "from bs4 import BeautifulSoup\n",
    "import re"
   ]
  },
  {
   "cell_type": "code",
   "execution_count": 212,
   "metadata": {},
   "outputs": [],
   "source": [
    "with open(\"knives/Navaja Knife.html\") as file_reader:\n",
    "    soup = BeautifulSoup(file_reader, \"lxml\")"
   ]
  },
  {
   "cell_type": "code",
   "execution_count": 213,
   "metadata": {},
   "outputs": [],
   "source": [
    "weapons = pd.DataFrame(columns=['gun', 'skin', 'rarity', 'quality', 'price', 'quantity'])"
   ]
  },
  {
   "cell_type": "code",
   "execution_count": 214,
   "metadata": {},
   "outputs": [],
   "source": [
    "tables = soup.find_all(\"div\", \"tab-content\")\n",
    "\n",
    "for table in tables:\n",
    "    rows = table.find_all(\"tr\")\n",
    "    rarity_data = table.find_previous(\"div\", \"item-rare\").find('p').get_text()\n",
    "    searchObj = re.search(r'[a-zA-Z\\-]+', rarity_data)\n",
    "    rarity = searchObj.group()\n",
    "    for row in rows:\n",
    "        data = []\n",
    "        title = row.find_previous(\"h3\").get_text()\n",
    "        searchObj = re.search( r'([a-zA-Z0-9\\-]+ *[a-zA-Z0-9]*) \\| ([a-zA-Z0-9]+ *[a-zA-Z0-9]*)', title)\n",
    "        weapon_name = searchObj.group(1)\n",
    "        weapon_skin = searchObj.group(2)\n",
    "        data.append(weapon_name)\n",
    "        data.append(weapon_skin)\n",
    "        data.append(rarity)\n",
    "        cols = row.find_all('td')\n",
    "        cols = [ele.text for ele in cols]\n",
    "        for ele in cols:\n",
    "            data.append(ele)\n",
    "        weapon = {'gun':data[0], 'skin':data[1], 'rarity':data[2], 'quality':data[3], 'price':data[4],'quantity':data[5]}\n",
    "        #print(data)\n",
    "        #print()\n",
    "        weapons = weapons.append(weapon, ignore_index=True)\n",
    "\n",
    "weapons.to_csv('dataset.csv')"
   ]
  },
  {
   "cell_type": "code",
   "execution_count": 215,
   "metadata": {},
   "outputs": [
    {
     "data": {
      "text/html": [
       "<div>\n",
       "<style scoped>\n",
       "    .dataframe tbody tr th:only-of-type {\n",
       "        vertical-align: middle;\n",
       "    }\n",
       "\n",
       "    .dataframe tbody tr th {\n",
       "        vertical-align: top;\n",
       "    }\n",
       "\n",
       "    .dataframe thead th {\n",
       "        text-align: right;\n",
       "    }\n",
       "</style>\n",
       "<table border=\"1\" class=\"dataframe\">\n",
       "  <thead>\n",
       "    <tr style=\"text-align: right;\">\n",
       "      <th></th>\n",
       "      <th>gun</th>\n",
       "      <th>skin</th>\n",
       "      <th>rarity</th>\n",
       "      <th>quality</th>\n",
       "      <th>price</th>\n",
       "      <th>quantity</th>\n",
       "    </tr>\n",
       "  </thead>\n",
       "  <tbody>\n",
       "    <tr>\n",
       "      <th>0</th>\n",
       "      <td>Navaja Knife</td>\n",
       "      <td>Ultraviolet</td>\n",
       "      <td>Covert</td>\n",
       "      <td>Factory New</td>\n",
       "      <td>$ 251.05</td>\n",
       "      <td>1</td>\n",
       "    </tr>\n",
       "    <tr>\n",
       "      <th>1</th>\n",
       "      <td>Navaja Knife</td>\n",
       "      <td>Ultraviolet</td>\n",
       "      <td>Covert</td>\n",
       "      <td>Minimal Wear</td>\n",
       "      <td>$ 105.06</td>\n",
       "      <td>6</td>\n",
       "    </tr>\n",
       "    <tr>\n",
       "      <th>2</th>\n",
       "      <td>Navaja Knife</td>\n",
       "      <td>Ultraviolet</td>\n",
       "      <td>Covert</td>\n",
       "      <td>Field-Tested</td>\n",
       "      <td>$ 82.02</td>\n",
       "      <td>15</td>\n",
       "    </tr>\n",
       "    <tr>\n",
       "      <th>3</th>\n",
       "      <td>Navaja Knife</td>\n",
       "      <td>Ultraviolet</td>\n",
       "      <td>Covert</td>\n",
       "      <td>Well-Worn</td>\n",
       "      <td>$ 91.92</td>\n",
       "      <td>4</td>\n",
       "    </tr>\n",
       "    <tr>\n",
       "      <th>4</th>\n",
       "      <td>Navaja Knife</td>\n",
       "      <td>Ultraviolet</td>\n",
       "      <td>Covert</td>\n",
       "      <td>Battle-Scarred</td>\n",
       "      <td>$ 77</td>\n",
       "      <td>5</td>\n",
       "    </tr>\n",
       "  </tbody>\n",
       "</table>\n",
       "</div>"
      ],
      "text/plain": [
       "            gun         skin  rarity         quality      price quantity\n",
       "0  Navaja Knife  Ultraviolet  Covert     Factory New   $ 251.05        1\n",
       "1  Navaja Knife  Ultraviolet  Covert    Minimal Wear   $ 105.06        6\n",
       "2  Navaja Knife  Ultraviolet  Covert    Field-Tested    $ 82.02       15\n",
       "3  Navaja Knife  Ultraviolet  Covert       Well-Worn    $ 91.92        4\n",
       "4  Navaja Knife  Ultraviolet  Covert  Battle-Scarred       $ 77        5"
      ]
     },
     "execution_count": 215,
     "metadata": {},
     "output_type": "execute_result"
    }
   ],
   "source": [
    "weapons.head()"
   ]
  },
  {
   "cell_type": "code",
   "execution_count": null,
   "metadata": {},
   "outputs": [],
   "source": []
  }
 ],
 "metadata": {
  "kernelspec": {
   "display_name": "Python 3",
   "language": "python",
   "name": "python3"
  },
  "language_info": {
   "codemirror_mode": {
    "name": "ipython",
    "version": 3
   },
   "file_extension": ".py",
   "mimetype": "text/x-python",
   "name": "python",
   "nbconvert_exporter": "python",
   "pygments_lexer": "ipython3",
   "version": "3.8.1"
  }
 },
 "nbformat": 4,
 "nbformat_minor": 4
}
